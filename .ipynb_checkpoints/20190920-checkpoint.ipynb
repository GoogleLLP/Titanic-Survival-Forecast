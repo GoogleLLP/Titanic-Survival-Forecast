{
 "cells": [
  {
   "cell_type": "markdown",
   "metadata": {
    "ExecuteTime": {
     "end_time": "2019-09-15T07:37:15.823000Z",
     "start_time": "2019-09-15T07:37:15.723000Z"
    }
   },
   "source": [
    "# 头文件"
   ]
  },
  {
   "cell_type": "code",
   "execution_count": 1,
   "metadata": {
    "ExecuteTime": {
     "end_time": "2019-09-20T08:27:50.676440Z",
     "start_time": "2019-09-20T08:27:49.033811Z"
    }
   },
   "outputs": [],
   "source": [
    "import numpy as np\n",
    "import pandas as pd\n",
    "import seaborn as sns\n",
    "import matplotlib.pyplot as plt\n",
    "%matplotlib inline"
   ]
  },
  {
   "cell_type": "markdown",
   "metadata": {},
   "source": [
    "# 数据载入"
   ]
  },
  {
   "cell_type": "code",
   "execution_count": 2,
   "metadata": {
    "ExecuteTime": {
     "end_time": "2019-09-20T08:27:52.387695Z",
     "start_time": "2019-09-20T08:27:52.326788Z"
    }
   },
   "outputs": [
    {
     "data": {
      "text/html": [
       "<div>\n",
       "<style scoped>\n",
       "    .dataframe tbody tr th:only-of-type {\n",
       "        vertical-align: middle;\n",
       "    }\n",
       "\n",
       "    .dataframe tbody tr th {\n",
       "        vertical-align: top;\n",
       "    }\n",
       "\n",
       "    .dataframe thead th {\n",
       "        text-align: right;\n",
       "    }\n",
       "</style>\n",
       "<table border=\"1\" class=\"dataframe\">\n",
       "  <thead>\n",
       "    <tr style=\"text-align: right;\">\n",
       "      <th></th>\n",
       "      <th>PassengerId</th>\n",
       "      <th>Pclass</th>\n",
       "      <th>Name</th>\n",
       "      <th>Sex</th>\n",
       "      <th>Age</th>\n",
       "      <th>SibSp</th>\n",
       "      <th>Parch</th>\n",
       "      <th>Ticket</th>\n",
       "      <th>Fare</th>\n",
       "      <th>Cabin</th>\n",
       "      <th>Embarked</th>\n",
       "    </tr>\n",
       "  </thead>\n",
       "  <tbody>\n",
       "    <tr>\n",
       "      <th>0</th>\n",
       "      <td>892</td>\n",
       "      <td>3</td>\n",
       "      <td>Kelly, Mr. James</td>\n",
       "      <td>male</td>\n",
       "      <td>34.5</td>\n",
       "      <td>0</td>\n",
       "      <td>0</td>\n",
       "      <td>330911</td>\n",
       "      <td>7.8292</td>\n",
       "      <td>NaN</td>\n",
       "      <td>Q</td>\n",
       "    </tr>\n",
       "    <tr>\n",
       "      <th>1</th>\n",
       "      <td>893</td>\n",
       "      <td>3</td>\n",
       "      <td>Wilkes, Mrs. James (Ellen Needs)</td>\n",
       "      <td>female</td>\n",
       "      <td>47.0</td>\n",
       "      <td>1</td>\n",
       "      <td>0</td>\n",
       "      <td>363272</td>\n",
       "      <td>7.0000</td>\n",
       "      <td>NaN</td>\n",
       "      <td>S</td>\n",
       "    </tr>\n",
       "    <tr>\n",
       "      <th>2</th>\n",
       "      <td>894</td>\n",
       "      <td>2</td>\n",
       "      <td>Myles, Mr. Thomas Francis</td>\n",
       "      <td>male</td>\n",
       "      <td>62.0</td>\n",
       "      <td>0</td>\n",
       "      <td>0</td>\n",
       "      <td>240276</td>\n",
       "      <td>9.6875</td>\n",
       "      <td>NaN</td>\n",
       "      <td>Q</td>\n",
       "    </tr>\n",
       "    <tr>\n",
       "      <th>3</th>\n",
       "      <td>895</td>\n",
       "      <td>3</td>\n",
       "      <td>Wirz, Mr. Albert</td>\n",
       "      <td>male</td>\n",
       "      <td>27.0</td>\n",
       "      <td>0</td>\n",
       "      <td>0</td>\n",
       "      <td>315154</td>\n",
       "      <td>8.6625</td>\n",
       "      <td>NaN</td>\n",
       "      <td>S</td>\n",
       "    </tr>\n",
       "    <tr>\n",
       "      <th>4</th>\n",
       "      <td>896</td>\n",
       "      <td>3</td>\n",
       "      <td>Hirvonen, Mrs. Alexander (Helga E Lindqvist)</td>\n",
       "      <td>female</td>\n",
       "      <td>22.0</td>\n",
       "      <td>1</td>\n",
       "      <td>1</td>\n",
       "      <td>3101298</td>\n",
       "      <td>12.2875</td>\n",
       "      <td>NaN</td>\n",
       "      <td>S</td>\n",
       "    </tr>\n",
       "  </tbody>\n",
       "</table>\n",
       "</div>"
      ],
      "text/plain": [
       "   PassengerId  Pclass                                          Name     Sex  \\\n",
       "0          892       3                              Kelly, Mr. James    male   \n",
       "1          893       3              Wilkes, Mrs. James (Ellen Needs)  female   \n",
       "2          894       2                     Myles, Mr. Thomas Francis    male   \n",
       "3          895       3                              Wirz, Mr. Albert    male   \n",
       "4          896       3  Hirvonen, Mrs. Alexander (Helga E Lindqvist)  female   \n",
       "\n",
       "    Age  SibSp  Parch   Ticket     Fare Cabin Embarked  \n",
       "0  34.5      0      0   330911   7.8292   NaN        Q  \n",
       "1  47.0      1      0   363272   7.0000   NaN        S  \n",
       "2  62.0      0      0   240276   9.6875   NaN        Q  \n",
       "3  27.0      0      0   315154   8.6625   NaN        S  \n",
       "4  22.0      1      1  3101298  12.2875   NaN        S  "
      ]
     },
     "execution_count": 2,
     "metadata": {},
     "output_type": "execute_result"
    }
   ],
   "source": [
    "train_df = pd.read_csv(\"train.csv\")\n",
    "test_df = pd.read_csv('test.csv')\n",
    "train_df.tail()\n",
    "test_df.head()"
   ]
  },
  {
   "cell_type": "code",
   "execution_count": 3,
   "metadata": {
    "ExecuteTime": {
     "end_time": "2019-09-20T08:27:54.281053Z",
     "start_time": "2019-09-20T08:27:54.192970Z"
    }
   },
   "outputs": [
    {
     "data": {
      "text/html": [
       "<div>\n",
       "<style scoped>\n",
       "    .dataframe tbody tr th:only-of-type {\n",
       "        vertical-align: middle;\n",
       "    }\n",
       "\n",
       "    .dataframe tbody tr th {\n",
       "        vertical-align: top;\n",
       "    }\n",
       "\n",
       "    .dataframe thead th {\n",
       "        text-align: right;\n",
       "    }\n",
       "</style>\n",
       "<table border=\"1\" class=\"dataframe\">\n",
       "  <thead>\n",
       "    <tr style=\"text-align: right;\">\n",
       "      <th></th>\n",
       "      <th>Name</th>\n",
       "      <th>Sex</th>\n",
       "      <th>Ticket</th>\n",
       "      <th>Cabin</th>\n",
       "      <th>Embarked</th>\n",
       "    </tr>\n",
       "  </thead>\n",
       "  <tbody>\n",
       "    <tr>\n",
       "      <th>count</th>\n",
       "      <td>891</td>\n",
       "      <td>891</td>\n",
       "      <td>891</td>\n",
       "      <td>204</td>\n",
       "      <td>889</td>\n",
       "    </tr>\n",
       "    <tr>\n",
       "      <th>unique</th>\n",
       "      <td>891</td>\n",
       "      <td>2</td>\n",
       "      <td>681</td>\n",
       "      <td>147</td>\n",
       "      <td>3</td>\n",
       "    </tr>\n",
       "    <tr>\n",
       "      <th>top</th>\n",
       "      <td>Taussig, Mrs. Emil (Tillie Mandelbaum)</td>\n",
       "      <td>male</td>\n",
       "      <td>347082</td>\n",
       "      <td>C23 C25 C27</td>\n",
       "      <td>S</td>\n",
       "    </tr>\n",
       "    <tr>\n",
       "      <th>freq</th>\n",
       "      <td>1</td>\n",
       "      <td>577</td>\n",
       "      <td>7</td>\n",
       "      <td>4</td>\n",
       "      <td>644</td>\n",
       "    </tr>\n",
       "  </tbody>\n",
       "</table>\n",
       "</div>"
      ],
      "text/plain": [
       "                                          Name   Sex  Ticket        Cabin  \\\n",
       "count                                      891   891     891          204   \n",
       "unique                                     891     2     681          147   \n",
       "top     Taussig, Mrs. Emil (Tillie Mandelbaum)  male  347082  C23 C25 C27   \n",
       "freq                                         1   577       7            4   \n",
       "\n",
       "       Embarked  \n",
       "count       889  \n",
       "unique        3  \n",
       "top           S  \n",
       "freq        644  "
      ]
     },
     "execution_count": 3,
     "metadata": {},
     "output_type": "execute_result"
    }
   ],
   "source": [
    "train_df.describe(include=np.number) #\"all\", np.number, np.object\n",
    "train_df.describe(include=np.object)"
   ]
  },
  {
   "cell_type": "code",
   "execution_count": 4,
   "metadata": {
    "ExecuteTime": {
     "end_time": "2019-09-20T08:27:55.277879Z",
     "start_time": "2019-09-20T08:27:55.232751Z"
    }
   },
   "outputs": [
    {
     "data": {
      "text/html": [
       "<div>\n",
       "<style scoped>\n",
       "    .dataframe tbody tr th:only-of-type {\n",
       "        vertical-align: middle;\n",
       "    }\n",
       "\n",
       "    .dataframe tbody tr th {\n",
       "        vertical-align: top;\n",
       "    }\n",
       "\n",
       "    .dataframe thead th {\n",
       "        text-align: right;\n",
       "    }\n",
       "</style>\n",
       "<table border=\"1\" class=\"dataframe\">\n",
       "  <thead>\n",
       "    <tr style=\"text-align: right;\">\n",
       "      <th></th>\n",
       "      <th>PassengerId</th>\n",
       "      <th>Pclass</th>\n",
       "      <th>Age</th>\n",
       "      <th>SibSp</th>\n",
       "      <th>Parch</th>\n",
       "      <th>Fare</th>\n",
       "    </tr>\n",
       "  </thead>\n",
       "  <tbody>\n",
       "    <tr>\n",
       "      <th>count</th>\n",
       "      <td>418.000000</td>\n",
       "      <td>418.000000</td>\n",
       "      <td>332.000000</td>\n",
       "      <td>418.000000</td>\n",
       "      <td>418.000000</td>\n",
       "      <td>417.000000</td>\n",
       "    </tr>\n",
       "    <tr>\n",
       "      <th>mean</th>\n",
       "      <td>1100.500000</td>\n",
       "      <td>2.265550</td>\n",
       "      <td>30.272590</td>\n",
       "      <td>0.447368</td>\n",
       "      <td>0.392344</td>\n",
       "      <td>35.627188</td>\n",
       "    </tr>\n",
       "    <tr>\n",
       "      <th>std</th>\n",
       "      <td>120.810458</td>\n",
       "      <td>0.841838</td>\n",
       "      <td>14.181209</td>\n",
       "      <td>0.896760</td>\n",
       "      <td>0.981429</td>\n",
       "      <td>55.907576</td>\n",
       "    </tr>\n",
       "    <tr>\n",
       "      <th>min</th>\n",
       "      <td>892.000000</td>\n",
       "      <td>1.000000</td>\n",
       "      <td>0.170000</td>\n",
       "      <td>0.000000</td>\n",
       "      <td>0.000000</td>\n",
       "      <td>0.000000</td>\n",
       "    </tr>\n",
       "    <tr>\n",
       "      <th>25%</th>\n",
       "      <td>996.250000</td>\n",
       "      <td>1.000000</td>\n",
       "      <td>21.000000</td>\n",
       "      <td>0.000000</td>\n",
       "      <td>0.000000</td>\n",
       "      <td>7.895800</td>\n",
       "    </tr>\n",
       "    <tr>\n",
       "      <th>50%</th>\n",
       "      <td>1100.500000</td>\n",
       "      <td>3.000000</td>\n",
       "      <td>27.000000</td>\n",
       "      <td>0.000000</td>\n",
       "      <td>0.000000</td>\n",
       "      <td>14.454200</td>\n",
       "    </tr>\n",
       "    <tr>\n",
       "      <th>75%</th>\n",
       "      <td>1204.750000</td>\n",
       "      <td>3.000000</td>\n",
       "      <td>39.000000</td>\n",
       "      <td>1.000000</td>\n",
       "      <td>0.000000</td>\n",
       "      <td>31.500000</td>\n",
       "    </tr>\n",
       "    <tr>\n",
       "      <th>max</th>\n",
       "      <td>1309.000000</td>\n",
       "      <td>3.000000</td>\n",
       "      <td>76.000000</td>\n",
       "      <td>8.000000</td>\n",
       "      <td>9.000000</td>\n",
       "      <td>512.329200</td>\n",
       "    </tr>\n",
       "  </tbody>\n",
       "</table>\n",
       "</div>"
      ],
      "text/plain": [
       "       PassengerId      Pclass         Age       SibSp       Parch        Fare\n",
       "count   418.000000  418.000000  332.000000  418.000000  418.000000  417.000000\n",
       "mean   1100.500000    2.265550   30.272590    0.447368    0.392344   35.627188\n",
       "std     120.810458    0.841838   14.181209    0.896760    0.981429   55.907576\n",
       "min     892.000000    1.000000    0.170000    0.000000    0.000000    0.000000\n",
       "25%     996.250000    1.000000   21.000000    0.000000    0.000000    7.895800\n",
       "50%    1100.500000    3.000000   27.000000    0.000000    0.000000   14.454200\n",
       "75%    1204.750000    3.000000   39.000000    1.000000    0.000000   31.500000\n",
       "max    1309.000000    3.000000   76.000000    8.000000    9.000000  512.329200"
      ]
     },
     "execution_count": 4,
     "metadata": {},
     "output_type": "execute_result"
    }
   ],
   "source": [
    "test_df.describe()"
   ]
  },
  {
   "cell_type": "code",
   "execution_count": 5,
   "metadata": {
    "ExecuteTime": {
     "end_time": "2019-09-20T08:27:56.225087Z",
     "start_time": "2019-09-20T08:27:56.203981Z"
    }
   },
   "outputs": [
    {
     "name": "stdout",
     "output_type": "stream",
     "text": [
      "<class 'pandas.core.frame.DataFrame'>\n",
      "RangeIndex: 891 entries, 0 to 890\n",
      "Data columns (total 12 columns):\n",
      "PassengerId    891 non-null int64\n",
      "Survived       891 non-null int64\n",
      "Pclass         891 non-null int64\n",
      "Name           891 non-null object\n",
      "Sex            891 non-null object\n",
      "Age            714 non-null float64\n",
      "SibSp          891 non-null int64\n",
      "Parch          891 non-null int64\n",
      "Ticket         891 non-null object\n",
      "Fare           891 non-null float64\n",
      "Cabin          204 non-null object\n",
      "Embarked       889 non-null object\n",
      "dtypes: float64(2), int64(5), object(5)\n",
      "memory usage: 83.6+ KB\n"
     ]
    }
   ],
   "source": [
    "train_df.info()"
   ]
  },
  {
   "cell_type": "code",
   "execution_count": 6,
   "metadata": {
    "ExecuteTime": {
     "end_time": "2019-09-20T08:27:57.075988Z",
     "start_time": "2019-09-20T08:27:57.057890Z"
    }
   },
   "outputs": [
    {
     "name": "stdout",
     "output_type": "stream",
     "text": [
      "<class 'pandas.core.frame.DataFrame'>\n",
      "RangeIndex: 418 entries, 0 to 417\n",
      "Data columns (total 11 columns):\n",
      "PassengerId    418 non-null int64\n",
      "Pclass         418 non-null int64\n",
      "Name           418 non-null object\n",
      "Sex            418 non-null object\n",
      "Age            332 non-null float64\n",
      "SibSp          418 non-null int64\n",
      "Parch          418 non-null int64\n",
      "Ticket         418 non-null object\n",
      "Fare           417 non-null float64\n",
      "Cabin          91 non-null object\n",
      "Embarked       418 non-null object\n",
      "dtypes: float64(2), int64(4), object(5)\n",
      "memory usage: 36.0+ KB\n"
     ]
    }
   ],
   "source": [
    "test_df.info()"
   ]
  },
  {
   "cell_type": "markdown",
   "metadata": {},
   "source": [
    "# 数据处理和特征分析"
   ]
  },
  {
   "cell_type": "markdown",
   "metadata": {},
   "source": [
    "## 基本分析"
   ]
  },
  {
   "cell_type": "code",
   "execution_count": 7,
   "metadata": {
    "ExecuteTime": {
     "end_time": "2019-09-20T08:27:59.067614Z",
     "start_time": "2019-09-20T08:27:59.058331Z"
    }
   },
   "outputs": [],
   "source": [
    "#Saving Ids\n",
    "train_ID = train_df['PassengerId']\n",
    "test_ID = test_df['PassengerId']\n",
    "#Dropping Ids\n",
    "train_df.drop(\"PassengerId\", axis = 1, inplace = True)\n",
    "test_df.drop(\"PassengerId\", axis = 1, inplace = True)"
   ]
  },
  {
   "cell_type": "code",
   "execution_count": 8,
   "metadata": {
    "ExecuteTime": {
     "end_time": "2019-09-20T08:27:59.948396Z",
     "start_time": "2019-09-20T08:27:59.929660Z"
    }
   },
   "outputs": [
    {
     "data": {
      "text/plain": [
       "count    891.000000\n",
       "mean       0.383838\n",
       "std        0.486592\n",
       "min        0.000000\n",
       "25%        0.000000\n",
       "50%        0.000000\n",
       "75%        1.000000\n",
       "max        1.000000\n",
       "Name: Survived, dtype: float64"
      ]
     },
     "execution_count": 8,
     "metadata": {},
     "output_type": "execute_result"
    }
   ],
   "source": [
    "# 统计标签\n",
    "target = train_df['Survived']\n",
    "target.describe()"
   ]
  },
  {
   "cell_type": "code",
   "execution_count": 9,
   "metadata": {
    "ExecuteTime": {
     "end_time": "2019-09-20T08:28:01.336686Z",
     "start_time": "2019-09-20T08:28:01.295083Z"
    }
   },
   "outputs": [
    {
     "data": {
      "text/html": [
       "<div>\n",
       "<style scoped>\n",
       "    .dataframe tbody tr th:only-of-type {\n",
       "        vertical-align: middle;\n",
       "    }\n",
       "\n",
       "    .dataframe tbody tr th {\n",
       "        vertical-align: top;\n",
       "    }\n",
       "\n",
       "    .dataframe thead th {\n",
       "        text-align: right;\n",
       "    }\n",
       "</style>\n",
       "<table border=\"1\" class=\"dataframe\">\n",
       "  <thead>\n",
       "    <tr style=\"text-align: right;\">\n",
       "      <th></th>\n",
       "      <th>Survived</th>\n",
       "      <th>Pclass</th>\n",
       "      <th>Age</th>\n",
       "      <th>SibSp</th>\n",
       "      <th>Parch</th>\n",
       "      <th>Fare</th>\n",
       "    </tr>\n",
       "  </thead>\n",
       "  <tbody>\n",
       "    <tr>\n",
       "      <th>Survived</th>\n",
       "      <td>1.000000</td>\n",
       "      <td>-0.338481</td>\n",
       "      <td>-0.077221</td>\n",
       "      <td>-0.035322</td>\n",
       "      <td>0.081629</td>\n",
       "      <td>0.257307</td>\n",
       "    </tr>\n",
       "    <tr>\n",
       "      <th>Pclass</th>\n",
       "      <td>-0.338481</td>\n",
       "      <td>1.000000</td>\n",
       "      <td>-0.369226</td>\n",
       "      <td>0.083081</td>\n",
       "      <td>0.018443</td>\n",
       "      <td>-0.549500</td>\n",
       "    </tr>\n",
       "    <tr>\n",
       "      <th>Age</th>\n",
       "      <td>-0.077221</td>\n",
       "      <td>-0.369226</td>\n",
       "      <td>1.000000</td>\n",
       "      <td>-0.308247</td>\n",
       "      <td>-0.189119</td>\n",
       "      <td>0.096067</td>\n",
       "    </tr>\n",
       "    <tr>\n",
       "      <th>SibSp</th>\n",
       "      <td>-0.035322</td>\n",
       "      <td>0.083081</td>\n",
       "      <td>-0.308247</td>\n",
       "      <td>1.000000</td>\n",
       "      <td>0.414838</td>\n",
       "      <td>0.159651</td>\n",
       "    </tr>\n",
       "    <tr>\n",
       "      <th>Parch</th>\n",
       "      <td>0.081629</td>\n",
       "      <td>0.018443</td>\n",
       "      <td>-0.189119</td>\n",
       "      <td>0.414838</td>\n",
       "      <td>1.000000</td>\n",
       "      <td>0.216225</td>\n",
       "    </tr>\n",
       "    <tr>\n",
       "      <th>Fare</th>\n",
       "      <td>0.257307</td>\n",
       "      <td>-0.549500</td>\n",
       "      <td>0.096067</td>\n",
       "      <td>0.159651</td>\n",
       "      <td>0.216225</td>\n",
       "      <td>1.000000</td>\n",
       "    </tr>\n",
       "  </tbody>\n",
       "</table>\n",
       "</div>"
      ],
      "text/plain": [
       "          Survived    Pclass       Age     SibSp     Parch      Fare\n",
       "Survived  1.000000 -0.338481 -0.077221 -0.035322  0.081629  0.257307\n",
       "Pclass   -0.338481  1.000000 -0.369226  0.083081  0.018443 -0.549500\n",
       "Age      -0.077221 -0.369226  1.000000 -0.308247 -0.189119  0.096067\n",
       "SibSp    -0.035322  0.083081 -0.308247  1.000000  0.414838  0.159651\n",
       "Parch     0.081629  0.018443 -0.189119  0.414838  1.000000  0.216225\n",
       "Fare      0.257307 -0.549500  0.096067  0.159651  0.216225  1.000000"
      ]
     },
     "execution_count": 9,
     "metadata": {},
     "output_type": "execute_result"
    }
   ],
   "source": [
    "corrmat = train_df.corr()\n",
    "corrmat"
   ]
  },
  {
   "cell_type": "code",
   "execution_count": 10,
   "metadata": {
    "ExecuteTime": {
     "end_time": "2019-09-20T08:28:03.226127Z",
     "start_time": "2019-09-20T08:28:02.673394Z"
    }
   },
   "outputs": [
    {
     "data": {
      "text/plain": [
       "<matplotlib.axes._subplots.AxesSubplot at 0x1a08a94be0>"
      ]
     },
     "execution_count": 10,
     "metadata": {},
     "output_type": "execute_result"
    },
    {
     "data": {
      "image/png": "[encoded data removed]",
      "text/plain": [
       "<Figure size 864x648 with 2 Axes>"
      ]
     },
     "metadata": {},
     "output_type": "display_data"
    }
   ],
   "source": [
    "# 绘制热力图\n",
    "mask = np.zeros_like(corrmat) # 返回相同大小的0矩阵\n",
    "mask[np.triu_indices_from(mask)] = True # triu_indices_from: 函数的上三角矩阵\n",
    "\n",
    "plt.subplots(figsize=(12,9))\n",
    "sns.heatmap(corrmat, mask=mask, linewidths=.5, vmax=0.9, square=True, cmap=\"coolwarm\") #YlGnBu\n",
    "#sns.heatmap(corrmat, linewidths=.5, vmax=0.9, square=True, cmap=\"coolwarm\")"
   ]
  },
  {
   "cell_type": "markdown",
   "metadata": {},
   "source": [
    "## Train Test 合并"
   ]
  },
  {
   "cell_type": "code",
   "execution_count": 11,
   "metadata": {
    "ExecuteTime": {
     "end_time": "2019-09-20T08:28:05.240796Z",
     "start_time": "2019-09-20T08:28:05.222963Z"
    }
   },
   "outputs": [],
   "source": [
    "size_train_df = train_df.shape[0] \n",
    "data = pd.concat((train_df, test_df),sort=False).reset_index(drop=True)\n",
    "data.drop(['Survived'], axis=1, inplace=True)\n",
    "# 有些地方可以查看data整体信息，所以先合并"
   ]
  },
  {
   "cell_type": "markdown",
   "metadata": {},
   "source": [
    "## 缺失值"
   ]
  },
  {
   "cell_type": "code",
   "execution_count": 12,
   "metadata": {
    "ExecuteTime": {
     "end_time": "2019-09-20T08:28:12.555985Z",
     "start_time": "2019-09-20T08:28:12.542127Z"
    }
   },
   "outputs": [
    {
     "data": {
      "text/plain": [
       "Pclass         0\n",
       "Name           0\n",
       "Sex            0\n",
       "Age          263\n",
       "SibSp          0\n",
       "Parch          0\n",
       "Ticket         0\n",
       "Fare           1\n",
       "Cabin       1014\n",
       "Embarked       2\n",
       "dtype: int64"
      ]
     },
     "execution_count": 12,
     "metadata": {},
     "output_type": "execute_result"
    }
   ],
   "source": [
    "# train_df.isnull().sum()\n",
    "# test_df.isnull().sum()\n",
    "data.isnull().sum()"
   ]
  },
  {
   "cell_type": "code",
   "execution_count": 13,
   "metadata": {
    "ExecuteTime": {
     "end_time": "2019-09-20T08:28:13.949534Z",
     "start_time": "2019-09-20T08:28:13.943476Z"
    }
   },
   "outputs": [],
   "source": [
    "# 可以考虑去掉的特征\n",
    "# train_df = train_df.drop(['Ticket','Cabin'], axis=1) \n",
    "# test_df = test_df.drop(['Ticket','Cabin'], axis=1)\n",
    "# data = data.drop(['Ticket','Cabin'], axis=1)"
   ]
  },
  {
   "cell_type": "markdown",
   "metadata": {},
   "source": [
    "## 相关性分析"
   ]
  },
  {
   "cell_type": "code",
   "execution_count": 14,
   "metadata": {
    "ExecuteTime": {
     "end_time": "2019-09-20T08:28:15.514405Z",
     "start_time": "2019-09-20T08:28:15.331502Z"
    }
   },
   "outputs": [],
   "source": [
    "from sklearn.feature_selection import chi2 , f_classif, f_regression\n",
    "# 'Pclass', 'Name', 'Sex', 'Age', 'SibSp', 'Parch', 'Fare', 'Embarked'\n",
    "# 'Survived'\n",
    "feature_class = ['Sex', 'Embarked']\n",
    "feature_continuous = ['Age', 'Fare', 'Pclass']\n",
    "train_df = train_df[train_df.isnull()==False]\n",
    "\n",
    "# ----需要特征转换为数值形式，并填补缺失值之后才能做----\n",
    "# for fcol in feature_class:\n",
    "#     print( fcol, chi2(train_df[[fcol]], train_df['Survived']))\n",
    "# for fcol in feature_continuous:\n",
    "#     print( fcol, f_classif(train_df[[fcol]], train_df['Survived']))"
   ]
  },
  {
   "cell_type": "markdown",
   "metadata": {
    "ExecuteTime": {
     "end_time": "2019-09-15T14:33:20.359000Z",
     "start_time": "2019-09-15T14:33:20.355000Z"
    }
   },
   "source": [
    "### 性别Sex"
   ]
  },
  {
   "cell_type": "code",
   "execution_count": 15,
   "metadata": {
    "ExecuteTime": {
     "end_time": "2019-09-20T08:28:17.307987Z",
     "start_time": "2019-09-20T08:28:17.103326Z"
    }
   },
   "outputs": [
    {
     "data": {
      "image/png": "[encoded data removed]",
      "text/plain": [
       "<Figure size 432x288 with 1 Axes>"
      ]
     },
     "metadata": {},
     "output_type": "display_data"
    }
   ],
   "source": [
    "# 类别特征\n",
    "g=sns.barplot(data=train_df,x=\"Sex\",y=\"Survived\")\n",
    "g.set_ylabel(\"Survival Probability\")\n",
    "plt.show()\n",
    "# -----------pandas实现，相对麻烦\n",
    "# plt.figure()\n",
    "# pd.crosstab(train_df['Survived'],train_df['Sex']).plot(kind = 'bar')\n",
    "# t1 = pd.crosstab(train_df['Survived'],train_df['Sex'])\n",
    "# t1[\"sum1\"]=t1.sum(1)\n",
    "# t1=t1.div(t1.sum1,axis = 0)\n",
    "# t1.drop(\"sum1\",1).plot(kind = 'bar',stacked= True)"
   ]
  },
  {
   "cell_type": "code",
   "execution_count": 16,
   "metadata": {
    "ExecuteTime": {
     "end_time": "2019-09-20T08:28:18.530879Z",
     "start_time": "2019-09-20T08:28:18.523656Z"
    }
   },
   "outputs": [],
   "source": [
    "# 测试相关性\n",
    "def testcorr(fcol, cortype = 'f', usedummy = True):\n",
    "    t1 = train_df[[fcol, 'Survived']].dropna() #临时dropno\n",
    "    if usedummy:\n",
    "        t2 = pd.get_dummies(t1[[fcol]]) #对类别临时dummy\n",
    "    else:\n",
    "        t2 = t1[[fcol]]\n",
    "    if cortype == 'f': #连续\n",
    "        score = f_classif(t2, t1['Survived'])\n",
    "    else:\n",
    "        score = chi2(t2, t1['Survived'])\n",
    "    print( ' Score', score[0])\n",
    "    print( 'Pvalue', score[1])"
   ]
  },
  {
   "cell_type": "code",
   "execution_count": 17,
   "metadata": {
    "ExecuteTime": {
     "end_time": "2019-09-20T08:28:19.413615Z",
     "start_time": "2019-09-20T08:28:19.391989Z"
    }
   },
   "outputs": [
    {
     "name": "stdout",
     "output_type": "stream",
     "text": [
      " Score [372.40573 372.40573]\n",
      "Pvalue [0. 0.]\n"
     ]
    }
   ],
   "source": [
    "testcorr('Sex')"
   ]
  },
  {
   "cell_type": "code",
   "execution_count": 18,
   "metadata": {
    "ExecuteTime": {
     "end_time": "2019-09-20T08:28:20.415660Z",
     "start_time": "2019-09-20T08:28:20.402404Z"
    }
   },
   "outputs": [
    {
     "name": "stdout",
     "output_type": "stream",
     "text": [
      "        Survived\n",
      "Sex             \n",
      "female  0.742038\n",
      "male    0.188908\n"
     ]
    }
   ],
   "source": [
    "#进一步查看\n",
    "print(train_df[[\"Sex\",\"Survived\"]].groupby(\"Sex\").mean())"
   ]
  },
  {
   "cell_type": "markdown",
   "metadata": {},
   "source": [
    "### 年龄Age"
   ]
  },
  {
   "cell_type": "code",
   "execution_count": 19,
   "metadata": {
    "ExecuteTime": {
     "end_time": "2019-09-20T08:28:24.465168Z",
     "start_time": "2019-09-20T08:28:24.260332Z"
    }
   },
   "outputs": [
    {
     "data": {
      "image/png": "[encoded data removed]",
      "text/plain": [
       "<Figure size 432x288 with 1 Axes>"
      ]
     },
     "metadata": {},
     "output_type": "display_data"
    }
   ],
   "source": [
    "# 数值特征--拟合曲线分布查看\n",
    "fcol = 'Age'\n",
    "g=sns.kdeplot(train_df[fcol][(train_df[fcol].notnull())&(train_df[\"Survived\"]==0)],color=\"Red\",shade=True)\n",
    "g=sns.kdeplot(train_df[fcol][(train_df[fcol].notnull())&(train_df[\"Survived\"]==1)],color=\"Blue\",shade=True,ax=g)\n",
    "g.set_xlabel(\"Age\")\n",
    "g.set_ylabel(\"Frequency\")\n",
    "g=g.legend([\"Not Survived\",\"Survived\"])\n",
    "plt.show()"
   ]
  },
  {
   "cell_type": "code",
   "execution_count": 20,
   "metadata": {
    "ExecuteTime": {
     "end_time": "2019-09-20T08:28:25.820028Z",
     "start_time": "2019-09-20T08:28:25.509237Z"
    }
   },
   "outputs": [
    {
     "data": {
      "image/png": "[encoded data removed]",
      "text/plain": [
       "<Figure size 720x360 with 1 Axes>"
      ]
     },
     "metadata": {},
     "output_type": "display_data"
    }
   ],
   "source": [
    "# plt方式，简单查看\n",
    "fcol = 'Age'\n",
    "plt.figure(figsize=(10, 5))\n",
    "t0 = train_df[fcol][(train_df[fcol].notnull())&(train_df[\"Survived\"]==0)]\n",
    "t1 = train_df[fcol][(train_df[fcol].notnull())&(train_df[\"Survived\"]==1)]\n",
    "t0.plot.kde(color=\"Red\")\n",
    "t1.plot.kde(color=\"Blue\")\n",
    "# ---hist\n",
    "num_bins = 20\n",
    "g=plt.hist(t0, num_bins, density=1, facecolor='red', alpha=0.5)\n",
    "g=plt.hist(t1, num_bins, density=1, facecolor='blue', alpha=0.5)"
   ]
  },
  {
   "cell_type": "code",
   "execution_count": 21,
   "metadata": {
    "ExecuteTime": {
     "end_time": "2019-09-20T08:28:29.309990Z",
     "start_time": "2019-09-20T08:28:29.104260Z"
    }
   },
   "outputs": [
    {
     "data": {
      "text/plain": [
       "<matplotlib.axes._subplots.AxesSubplot at 0x1a147f6438>"
      ]
     },
     "execution_count": 21,
     "metadata": {},
     "output_type": "execute_result"
    },
    {
     "data": {
      "image/png": "[encoded data removed]",
      "text/plain": [
       "<Figure size 432x288 with 1 Axes>"
      ]
     },
     "metadata": {},
     "output_type": "display_data"
    }
   ],
   "source": [
    "# 数值特征分布查看\n",
    "fcol = ['Age']\n",
    "train_df.boxplot(column=fcol, by= 'Survived',rot=90)"
   ]
  },
  {
   "cell_type": "code",
   "execution_count": 23,
   "metadata": {
    "ExecuteTime": {
     "end_time": "2019-09-20T08:29:04.019762Z",
     "start_time": "2019-09-20T08:29:04.004665Z"
    }
   },
   "outputs": [
    {
     "name": "stdout",
     "output_type": "stream",
     "text": [
      " Score [4.27119493]\n",
      "Pvalue [0.03912465]\n"
     ]
    }
   ],
   "source": [
    "# 测试相关性\n",
    "fcol = 'Age'\n",
    "testcorr(fcol, 'f', False)"
   ]
  },
  {
   "cell_type": "markdown",
   "metadata": {},
   "source": [
    "#### 缺失值处理"
   ]
  },
  {
   "cell_type": "code",
   "execution_count": 24,
   "metadata": {
    "ExecuteTime": {
     "end_time": "2019-09-20T08:29:05.538818Z",
     "start_time": "2019-09-20T08:29:05.527640Z"
    }
   },
   "outputs": [
    {
     "data": {
      "text/plain": [
       "(28.0, 27.0)"
      ]
     },
     "execution_count": 24,
     "metadata": {},
     "output_type": "execute_result"
    }
   ],
   "source": [
    "train_df.Age.median(),test_df.Age.median()"
   ]
  },
  {
   "cell_type": "code",
   "execution_count": 25,
   "metadata": {
    "ExecuteTime": {
     "end_time": "2019-09-20T08:29:07.816660Z",
     "start_time": "2019-09-20T08:29:07.804027Z"
    }
   },
   "outputs": [],
   "source": [
    "# 年龄处理 ---中位数 或者 均值 取整\n",
    "meanAge = data.Age.median()\n",
    "data.Age = data.Age.fillna(meanAge)\n",
    "train_df.Age = train_df.Age.fillna(meanAge)\n",
    "test_df.Age = test_df.Age.fillna(meanAge)\n",
    "# ---也可以更详细处理---利用和年龄有关的特征填充---"
   ]
  },
  {
   "cell_type": "markdown",
   "metadata": {},
   "source": [
    "### SibSp  \n",
    "船上兄弟姐妹或配偶数量"
   ]
  },
  {
   "cell_type": "code",
   "execution_count": 26,
   "metadata": {
    "ExecuteTime": {
     "end_time": "2019-09-20T08:29:09.600571Z",
     "start_time": "2019-09-20T08:29:09.295358Z"
    }
   },
   "outputs": [
    {
     "data": {
      "image/png": "[encoded data removed]",
      "text/plain": [
       "<Figure size 432x288 with 1 Axes>"
      ]
     },
     "metadata": {},
     "output_type": "display_data"
    }
   ],
   "source": [
    "# 类别特征\n",
    "g=sns.barplot(data=train_df,x=\"SibSp\",y=\"Survived\")\n",
    "g.set_ylabel(\"Survival Probability\")\n",
    "plt.show()"
   ]
  },
  {
   "cell_type": "code",
   "execution_count": 27,
   "metadata": {
    "ExecuteTime": {
     "end_time": "2019-09-20T08:29:10.286114Z",
     "start_time": "2019-09-20T08:29:10.268722Z"
    }
   },
   "outputs": [
    {
     "name": "stdout",
     "output_type": "stream",
     "text": [
      " Score [1.1105722]\n",
      "Pvalue [0.29224393]\n"
     ]
    }
   ],
   "source": [
    "# 测试相关性\n",
    "fcol = 'SibSp'\n",
    "# train_df['new'] = train_df[fcol].astype('str')\n",
    "# testcorr('new', 'f', True ) #非str类型，不能自动使用dummy\n",
    "testcorr(fcol, 'f', False ) "
   ]
  },
  {
   "cell_type": "markdown",
   "metadata": {},
   "source": [
    "### Parch  \n",
    "船上父母或子女数量"
   ]
  },
  {
   "cell_type": "code",
   "execution_count": 28,
   "metadata": {
    "ExecuteTime": {
     "end_time": "2019-09-20T08:29:11.889045Z",
     "start_time": "2019-09-20T08:29:11.556026Z"
    }
   },
   "outputs": [
    {
     "data": {
      "image/png": "[encoded data removed]",
      "text/plain": [
       "<Figure size 432x288 with 1 Axes>"
      ]
     },
     "metadata": {},
     "output_type": "display_data"
    }
   ],
   "source": [
    "# 类别特征\n",
    "g=sns.barplot(data=train_df,x=\"Parch\",y=\"Survived\")\n",
    "g.set_ylabel(\"Survival Probability\")\n",
    "plt.show()"
   ]
  },
  {
   "cell_type": "code",
   "execution_count": 29,
   "metadata": {
    "ExecuteTime": {
     "end_time": "2019-09-20T08:29:12.517019Z",
     "start_time": "2019-09-20T08:29:12.494602Z"
    }
   },
   "outputs": [
    {
     "name": "stdout",
     "output_type": "stream",
     "text": [
      "Parch (array([5.96346384]), array([0.01479925]))\n"
     ]
    }
   ],
   "source": [
    "# 测试相关性\n",
    "fcol = 'Parch'\n",
    "t1 = train_df[[fcol, 'Survived']].dropna() #临时dropno\n",
    "t2 = pd.get_dummies(t1[[fcol]]) #对类别临时dummy\n",
    "print( fcol, f_classif(t2, t1['Survived']))"
   ]
  },
  {
   "cell_type": "markdown",
   "metadata": {},
   "source": [
    "### 船票等级Pclass"
   ]
  },
  {
   "cell_type": "code",
   "execution_count": 30,
   "metadata": {
    "ExecuteTime": {
     "end_time": "2019-09-20T08:29:13.908209Z",
     "start_time": "2019-09-20T08:29:13.677283Z"
    }
   },
   "outputs": [
    {
     "data": {
      "image/png": "[encoded data removed]",
      "text/plain": [
       "<Figure size 432x288 with 1 Axes>"
      ]
     },
     "metadata": {},
     "output_type": "display_data"
    }
   ],
   "source": [
    "g=sns.barplot(data=train_df,x=\"Pclass\",y=\"Survived\")\n",
    "g.set_ylabel(\"Survival Probability\")\n",
    "plt.show()"
   ]
  },
  {
   "cell_type": "code",
   "execution_count": 31,
   "metadata": {
    "ExecuteTime": {
     "end_time": "2019-09-20T08:29:14.588207Z",
     "start_time": "2019-09-20T08:29:14.555767Z"
    }
   },
   "outputs": [
    {
     "name": "stdout",
     "output_type": "stream",
     "text": [
      "Pclass (array([ 79.13641  ,   7.8147917, 103.05747  ], dtype=float32), array([3.190567e-18, 5.293693e-03, 5.510598e-23], dtype=float32))\n",
      "Pclass (array([55.17515099,  6.16076687, 41.55307089]), array([1.10253810e-13, 1.30614569e-02, 1.14714147e-10]))\n"
     ]
    }
   ],
   "source": [
    "# 测试相关性\n",
    "fcol = 'Pclass'\n",
    "t1 = train_df[[fcol, 'Survived']].dropna() #临时dropno\n",
    "t2 = pd.get_dummies(t1[[fcol]].astype('str')) #对类别临时dummy\n",
    "print( fcol, f_classif(t2, t1['Survived']))\n",
    "print( fcol, chi2(t2, t1['Survived']))"
   ]
  },
  {
   "cell_type": "markdown",
   "metadata": {},
   "source": [
    "### 票价Fare"
   ]
  },
  {
   "cell_type": "code",
   "execution_count": 32,
   "metadata": {
    "ExecuteTime": {
     "end_time": "2019-09-20T08:29:16.162172Z",
     "start_time": "2019-09-20T08:29:15.973703Z"
    }
   },
   "outputs": [
    {
     "data": {
      "image/png": "[encoded data removed]",
      "text/plain": [
       "<Figure size 432x288 with 1 Axes>"
      ]
     },
     "metadata": {},
     "output_type": "display_data"
    }
   ],
   "source": [
    "# 数值特征--拟合曲线分布查看\n",
    "fcol = 'Fare'\n",
    "g=sns.kdeplot(train_df[fcol][(train_df[fcol].notnull())&(train_df[\"Survived\"]==0)],color=\"Red\",shade=True)\n",
    "g=sns.kdeplot(train_df[fcol][(train_df[fcol].notnull())&(train_df[\"Survived\"]==1)],color=\"Blue\",shade=True,ax=g)\n",
    "g.set_xlabel(\"Age\")\n",
    "g.set_ylabel(\"Frequency\")\n",
    "g=g.legend([\"Not Survived\",\"Survived\"])\n",
    "plt.show()"
   ]
  },
  {
   "cell_type": "code",
   "execution_count": 34,
   "metadata": {
    "ExecuteTime": {
     "end_time": "2019-09-20T08:30:52.706615Z",
     "start_time": "2019-09-20T08:30:52.355644Z"
    }
   },
   "outputs": [
    {
     "data": {
      "image/png": "[encoded data removed]",
      "text/plain": [
       "<Figure size 720x360 with 1 Axes>"
      ]
     },
     "metadata": {},
     "output_type": "display_data"
    }
   ],
   "source": [
    "# plt方式，简单查看\n",
    "fcol = 'Fare'\n",
    "plt.figure(figsize=(10, 5))\n",
    "t0 = train_df[fcol][(train_df[fcol].notnull())&(train_df[\"Survived\"]==0)]\n",
    "t1 = train_df[fcol][(train_df[fcol].notnull())&(train_df[\"Survived\"]==1)]\n",
    "t0.plot.kde(color=\"Red\")\n",
    "t1.plot.kde(color=\"Blue\")\n",
    "# ---hist\n",
    "num_bins = 20\n",
    "g=plt.hist(t0, num_bins, density=1, facecolor='red', alpha=0.5)\n",
    "g=plt.hist(t1, num_bins, density=1, facecolor='blue', alpha=0.5)"
   ]
  },
  {
   "cell_type": "code",
   "execution_count": 35,
   "metadata": {
    "ExecuteTime": {
     "end_time": "2019-09-20T08:30:55.606674Z",
     "start_time": "2019-09-20T08:30:55.596114Z"
    }
   },
   "outputs": [
    {
     "data": {
      "text/plain": [
       "(4.7792532923723545, 4.787316519674893)"
      ]
     },
     "execution_count": 35,
     "metadata": {},
     "output_type": "execute_result"
    }
   ],
   "source": [
    "#计算偏度\n",
    "from scipy.stats import skew, kurtosis\n",
    "skew(train_df[fcol]), train_df[fcol].skew()\n",
    "#kurtosis(train_df[fcol]), train_df[fcol].kurt()"
   ]
  },
  {
   "cell_type": "code",
   "execution_count": 36,
   "metadata": {
    "ExecuteTime": {
     "end_time": "2019-09-20T08:30:56.822092Z",
     "start_time": "2019-09-20T08:30:56.796736Z"
    }
   },
   "outputs": [
    {
     "name": "stdout",
     "output_type": "stream",
     "text": [
      "Fare (array([63.03076423]), array([6.12018934e-15]))\n",
      "Fare (array([4518.31909064]), array([0.]))\n"
     ]
    }
   ],
   "source": [
    "# 测试相关性\n",
    "fcol = 'Fare'\n",
    "t1 = train_df[[fcol, 'Survived']].dropna() #临时dropno\n",
    "t2 = t1[[fcol]]\n",
    "print( fcol, f_classif(t2, t1['Survived']))\n",
    "print( fcol, chi2(t2, t1['Survived']))"
   ]
  },
  {
   "cell_type": "markdown",
   "metadata": {},
   "source": [
    "#### 缺失值处理  \n",
    "因为后面需要进行log变换，所以先进行缺失值处理"
   ]
  },
  {
   "cell_type": "code",
   "execution_count": 37,
   "metadata": {
    "ExecuteTime": {
     "end_time": "2019-09-20T08:31:04.234015Z",
     "start_time": "2019-09-20T08:31:03.790174Z"
    }
   },
   "outputs": [
    {
     "data": {
      "image/png": "[encoded data removed]",
      "text/plain": [
       "<Figure size 432x288 with 1 Axes>"
      ]
     },
     "metadata": {},
     "output_type": "display_data"
    },
    {
     "data": {
      "image/png": "[encoded data removed]",
      "text/plain": [
       "<Figure size 432x288 with 1 Axes>"
      ]
     },
     "metadata": {},
     "output_type": "display_data"
    },
    {
     "data": {
      "image/png": "[encoded data removed]",
      "text/plain": [
       "<Figure size 432x288 with 1 Axes>"
      ]
     },
     "metadata": {},
     "output_type": "display_data"
    }
   ],
   "source": [
    "# Fare分析\n",
    "for col in ['Pclass', 'Sex', 'Embarked']:\n",
    "        plt.figure()\n",
    "        data.groupby(col).Fare.mean().sort_values(ascending=False).plot(kind=\"bar\")\n",
    "        data.groupby(col).Fare.mean()"
   ]
  },
  {
   "cell_type": "code",
   "execution_count": 38,
   "metadata": {
    "ExecuteTime": {
     "end_time": "2019-09-20T08:31:04.915404Z",
     "start_time": "2019-09-20T08:31:04.887046Z"
    }
   },
   "outputs": [],
   "source": [
    "# Fare处理---均值 或 中位数\n",
    "FarebyPclass = data.groupby('Pclass').Fare.median()\n",
    "FareMedian = data[\"Pclass\"].apply(lambda x: FarebyPclass[x])"
   ]
  },
  {
   "cell_type": "code",
   "execution_count": 39,
   "metadata": {
    "ExecuteTime": {
     "end_time": "2019-09-20T08:31:05.769714Z",
     "start_time": "2019-09-20T08:31:05.744788Z"
    }
   },
   "outputs": [
    {
     "data": {
      "text/html": [
       "<div>\n",
       "<style scoped>\n",
       "    .dataframe tbody tr th:only-of-type {\n",
       "        vertical-align: middle;\n",
       "    }\n",
       "\n",
       "    .dataframe tbody tr th {\n",
       "        vertical-align: top;\n",
       "    }\n",
       "\n",
       "    .dataframe thead th {\n",
       "        text-align: right;\n",
       "    }\n",
       "</style>\n",
       "<table border=\"1\" class=\"dataframe\">\n",
       "  <thead>\n",
       "    <tr style=\"text-align: right;\">\n",
       "      <th></th>\n",
       "      <th>Pclass</th>\n",
       "      <th>Name</th>\n",
       "      <th>Sex</th>\n",
       "      <th>Age</th>\n",
       "      <th>SibSp</th>\n",
       "      <th>Parch</th>\n",
       "      <th>Ticket</th>\n",
       "      <th>Fare</th>\n",
       "      <th>Cabin</th>\n",
       "      <th>Embarked</th>\n",
       "    </tr>\n",
       "  </thead>\n",
       "  <tbody>\n",
       "    <tr>\n",
       "      <th>1043</th>\n",
       "      <td>3</td>\n",
       "      <td>Storey, Mr. Thomas</td>\n",
       "      <td>male</td>\n",
       "      <td>60.5</td>\n",
       "      <td>0</td>\n",
       "      <td>0</td>\n",
       "      <td>3701</td>\n",
       "      <td>NaN</td>\n",
       "      <td>NaN</td>\n",
       "      <td>S</td>\n",
       "    </tr>\n",
       "  </tbody>\n",
       "</table>\n",
       "</div>"
      ],
      "text/plain": [
       "      Pclass                Name   Sex   Age  SibSp  Parch Ticket  Fare Cabin  \\\n",
       "1043       3  Storey, Mr. Thomas  male  60.5      0      0   3701   NaN   NaN   \n",
       "\n",
       "     Embarked  \n",
       "1043        S  "
      ]
     },
     "execution_count": 39,
     "metadata": {},
     "output_type": "execute_result"
    }
   ],
   "source": [
    "data[data.Fare.isnull()]\n",
    "data.loc[1043:1043]"
   ]
  },
  {
   "cell_type": "code",
   "execution_count": 40,
   "metadata": {
    "ExecuteTime": {
     "end_time": "2019-09-20T08:31:06.560315Z",
     "start_time": "2019-09-20T08:31:06.547611Z"
    }
   },
   "outputs": [],
   "source": [
    "data.Fare.fillna(value = FareMedian, inplace=True)\n",
    "test_df.Fare.fillna(value = FareMedian, inplace=True)"
   ]
  },
  {
   "cell_type": "markdown",
   "metadata": {},
   "source": [
    "#### 分布长尾，可以考虑进行log变换  \n",
    "票价的分布存在长尾，相对正态分布严重偏斜，这种分布在很多算法中会导致该特征产生过高的权重（高于它应该享有的待遇）  \n",
    "对该特征应进行log1p变换可以纠正偏斜。"
   ]
  },
  {
   "cell_type": "code",
   "execution_count": 41,
   "metadata": {
    "ExecuteTime": {
     "end_time": "2019-09-20T08:31:08.959394Z",
     "start_time": "2019-09-20T08:31:08.944837Z"
    }
   },
   "outputs": [
    {
     "data": {
      "text/plain": [
       "(0.39426283638993376, 0.3949280095189306)"
      ]
     },
     "execution_count": 41,
     "metadata": {},
     "output_type": "execute_result"
    }
   ],
   "source": [
    "train_df[fcol + '_Log1p'] = np.log1p(train_df[fcol]) \n",
    "test_df[fcol + '_Log1p'] = np.log1p(test_df[fcol]) \n",
    "data[fcol + '_Log1p'] = np.log1p(data[fcol]) \n",
    "\n",
    "fcol1 = fcol + '_Log1p'\n",
    "skew(train_df[fcol1]), train_df[fcol1].skew()"
   ]
  },
  {
   "cell_type": "code",
   "execution_count": 42,
   "metadata": {
    "ExecuteTime": {
     "end_time": "2019-09-20T08:31:09.892212Z",
     "start_time": "2019-09-20T08:31:09.654215Z"
    }
   },
   "outputs": [
    {
     "data": {
      "image/png": "[encoded data removed]",
      "text/plain": [
       "<Figure size 432x288 with 1 Axes>"
      ]
     },
     "metadata": {},
     "output_type": "display_data"
    }
   ],
   "source": [
    "g=sns.kdeplot(train_df[fcol1][(train_df[fcol1].notnull())&(train_df[\"Survived\"]==0)],color=\"Red\",shade=True)\n",
    "g=sns.kdeplot(train_df[fcol1][(train_df[fcol1].notnull())&(train_df[\"Survived\"]==1)],color=\"Blue\",shade=True,ax=g)\n",
    "g.set_xlabel(\"Age\")\n",
    "g.set_ylabel(\"Frequency\")\n",
    "g=g.legend([\"Not Survived\",\"Survived\"])\n",
    "plt.show()"
   ]
  },
  {
   "cell_type": "code",
   "execution_count": 43,
   "metadata": {
    "ExecuteTime": {
     "end_time": "2019-09-20T08:31:10.423094Z",
     "start_time": "2019-09-20T08:31:10.399256Z"
    }
   },
   "outputs": [
    {
     "name": "stdout",
     "output_type": "stream",
     "text": [
      "Fare (array([108.54151903]), array([4.64667029e-24]))\n",
      "Fare (array([30.69903038]), array([3.01315582e-08]))\n"
     ]
    }
   ],
   "source": [
    "# 测试相关性\n",
    "t1 = train_df[[fcol1, 'Survived']].dropna() #临时dropno\n",
    "t2 = t1[[fcol1]]\n",
    "print( fcol, f_classif(t2, t1['Survived']))\n",
    "print( fcol, chi2(t2, t1['Survived']))"
   ]
  },
  {
   "cell_type": "markdown",
   "metadata": {},
   "source": [
    "### 登录港口Embarked"
   ]
  },
  {
   "cell_type": "markdown",
   "metadata": {},
   "source": [
    "#### 缺失值处理"
   ]
  },
  {
   "cell_type": "code",
   "execution_count": 44,
   "metadata": {
    "ExecuteTime": {
     "end_time": "2019-09-20T08:31:12.136649Z",
     "start_time": "2019-09-20T08:31:12.122473Z"
    }
   },
   "outputs": [
    {
     "name": "stdout",
     "output_type": "stream",
     "text": [
      "count     1307\n",
      "unique       3\n",
      "top          S\n",
      "freq       914\n",
      "Name: Embarked, dtype: object\n"
     ]
    }
   ],
   "source": [
    "print(data[\"Embarked\"].describe())"
   ]
  },
  {
   "cell_type": "code",
   "execution_count": 45,
   "metadata": {
    "ExecuteTime": {
     "end_time": "2019-09-20T08:31:12.822576Z",
     "start_time": "2019-09-20T08:31:12.793727Z"
    }
   },
   "outputs": [
    {
     "data": {
      "text/html": [
       "<div>\n",
       "<style scoped>\n",
       "    .dataframe tbody tr th:only-of-type {\n",
       "        vertical-align: middle;\n",
       "    }\n",
       "\n",
       "    .dataframe tbody tr th {\n",
       "        vertical-align: top;\n",
       "    }\n",
       "\n",
       "    .dataframe thead th {\n",
       "        text-align: right;\n",
       "    }\n",
       "</style>\n",
       "<table border=\"1\" class=\"dataframe\">\n",
       "  <thead>\n",
       "    <tr style=\"text-align: right;\">\n",
       "      <th></th>\n",
       "      <th>Pclass</th>\n",
       "      <th>Name</th>\n",
       "      <th>Sex</th>\n",
       "      <th>Age</th>\n",
       "      <th>SibSp</th>\n",
       "      <th>Parch</th>\n",
       "      <th>Ticket</th>\n",
       "      <th>Fare</th>\n",
       "      <th>Cabin</th>\n",
       "      <th>Embarked</th>\n",
       "      <th>Fare_Log1p</th>\n",
       "    </tr>\n",
       "  </thead>\n",
       "  <tbody>\n",
       "    <tr>\n",
       "      <th>61</th>\n",
       "      <td>1</td>\n",
       "      <td>Icard, Miss. Amelie</td>\n",
       "      <td>female</td>\n",
       "      <td>38.0</td>\n",
       "      <td>0</td>\n",
       "      <td>0</td>\n",
       "      <td>113572</td>\n",
       "      <td>80.0</td>\n",
       "      <td>B28</td>\n",
       "      <td>NaN</td>\n",
       "      <td>4.394449</td>\n",
       "    </tr>\n",
       "    <tr>\n",
       "      <th>829</th>\n",
       "      <td>1</td>\n",
       "      <td>Stone, Mrs. George Nelson (Martha Evelyn)</td>\n",
       "      <td>female</td>\n",
       "      <td>62.0</td>\n",
       "      <td>0</td>\n",
       "      <td>0</td>\n",
       "      <td>113572</td>\n",
       "      <td>80.0</td>\n",
       "      <td>B28</td>\n",
       "      <td>NaN</td>\n",
       "      <td>4.394449</td>\n",
       "    </tr>\n",
       "  </tbody>\n",
       "</table>\n",
       "</div>"
      ],
      "text/plain": [
       "     Pclass                                       Name     Sex   Age  SibSp  \\\n",
       "61        1                        Icard, Miss. Amelie  female  38.0      0   \n",
       "829       1  Stone, Mrs. George Nelson (Martha Evelyn)  female  62.0      0   \n",
       "\n",
       "     Parch  Ticket  Fare Cabin Embarked  Fare_Log1p  \n",
       "61       0  113572  80.0   B28      NaN    4.394449  \n",
       "829      0  113572  80.0   B28      NaN    4.394449  "
      ]
     },
     "execution_count": 45,
     "metadata": {},
     "output_type": "execute_result"
    }
   ],
   "source": [
    "data[data.Embarked.isnull()]"
   ]
  },
  {
   "cell_type": "code",
   "execution_count": 46,
   "metadata": {
    "ExecuteTime": {
     "end_time": "2019-09-20T08:31:13.604999Z",
     "start_time": "2019-09-20T08:31:13.562878Z"
    }
   },
   "outputs": [
    {
     "data": {
      "text/html": [
       "<div>\n",
       "<style scoped>\n",
       "    .dataframe tbody tr th:only-of-type {\n",
       "        vertical-align: middle;\n",
       "    }\n",
       "\n",
       "    .dataframe tbody tr th {\n",
       "        vertical-align: top;\n",
       "    }\n",
       "\n",
       "    .dataframe thead th {\n",
       "        text-align: right;\n",
       "    }\n",
       "</style>\n",
       "<table border=\"1\" class=\"dataframe\">\n",
       "  <thead>\n",
       "    <tr style=\"text-align: right;\">\n",
       "      <th></th>\n",
       "      <th>Pclass</th>\n",
       "      <th>Name</th>\n",
       "      <th>Sex</th>\n",
       "      <th>Age</th>\n",
       "      <th>SibSp</th>\n",
       "      <th>Parch</th>\n",
       "      <th>Ticket</th>\n",
       "      <th>Fare</th>\n",
       "      <th>Cabin</th>\n",
       "      <th>Embarked</th>\n",
       "      <th>Fare_Log1p</th>\n",
       "    </tr>\n",
       "  </thead>\n",
       "  <tbody>\n",
       "    <tr>\n",
       "      <th>139</th>\n",
       "      <td>1</td>\n",
       "      <td>Giglio, Mr. Victor</td>\n",
       "      <td>male</td>\n",
       "      <td>24.0</td>\n",
       "      <td>0</td>\n",
       "      <td>0</td>\n",
       "      <td>PC 17593</td>\n",
       "      <td>79.2000</td>\n",
       "      <td>B86</td>\n",
       "      <td>C</td>\n",
       "      <td>4.384524</td>\n",
       "    </tr>\n",
       "    <tr>\n",
       "      <th>256</th>\n",
       "      <td>1</td>\n",
       "      <td>Thorne, Mrs. Gertrude Maybelle</td>\n",
       "      <td>female</td>\n",
       "      <td>28.0</td>\n",
       "      <td>0</td>\n",
       "      <td>0</td>\n",
       "      <td>PC 17585</td>\n",
       "      <td>79.2000</td>\n",
       "      <td>NaN</td>\n",
       "      <td>C</td>\n",
       "      <td>4.384524</td>\n",
       "    </tr>\n",
       "    <tr>\n",
       "      <th>587</th>\n",
       "      <td>1</td>\n",
       "      <td>Frolicher-Stehli, Mr. Maxmillian</td>\n",
       "      <td>male</td>\n",
       "      <td>60.0</td>\n",
       "      <td>1</td>\n",
       "      <td>1</td>\n",
       "      <td>13567</td>\n",
       "      <td>79.2000</td>\n",
       "      <td>B41</td>\n",
       "      <td>C</td>\n",
       "      <td>4.384524</td>\n",
       "    </tr>\n",
       "    <tr>\n",
       "      <th>789</th>\n",
       "      <td>1</td>\n",
       "      <td>Guggenheim, Mr. Benjamin</td>\n",
       "      <td>male</td>\n",
       "      <td>46.0</td>\n",
       "      <td>0</td>\n",
       "      <td>0</td>\n",
       "      <td>PC 17593</td>\n",
       "      <td>79.2000</td>\n",
       "      <td>B82 B84</td>\n",
       "      <td>C</td>\n",
       "      <td>4.384524</td>\n",
       "    </tr>\n",
       "    <tr>\n",
       "      <th>1218</th>\n",
       "      <td>1</td>\n",
       "      <td>Rosenshine, Mr. George (Mr George Thorne\")\"</td>\n",
       "      <td>male</td>\n",
       "      <td>46.0</td>\n",
       "      <td>0</td>\n",
       "      <td>0</td>\n",
       "      <td>PC 17585</td>\n",
       "      <td>79.2000</td>\n",
       "      <td>NaN</td>\n",
       "      <td>C</td>\n",
       "      <td>4.384524</td>\n",
       "    </tr>\n",
       "    <tr>\n",
       "      <th>1288</th>\n",
       "      <td>1</td>\n",
       "      <td>Frolicher-Stehli, Mrs. Maxmillian (Margaretha ...</td>\n",
       "      <td>female</td>\n",
       "      <td>48.0</td>\n",
       "      <td>1</td>\n",
       "      <td>1</td>\n",
       "      <td>13567</td>\n",
       "      <td>79.2000</td>\n",
       "      <td>B41</td>\n",
       "      <td>C</td>\n",
       "      <td>4.384524</td>\n",
       "    </tr>\n",
       "    <tr>\n",
       "      <th>262</th>\n",
       "      <td>1</td>\n",
       "      <td>Taussig, Mr. Emil</td>\n",
       "      <td>male</td>\n",
       "      <td>52.0</td>\n",
       "      <td>1</td>\n",
       "      <td>1</td>\n",
       "      <td>110413</td>\n",
       "      <td>79.6500</td>\n",
       "      <td>E67</td>\n",
       "      <td>S</td>\n",
       "      <td>4.390119</td>\n",
       "    </tr>\n",
       "    <tr>\n",
       "      <th>558</th>\n",
       "      <td>1</td>\n",
       "      <td>Taussig, Mrs. Emil (Tillie Mandelbaum)</td>\n",
       "      <td>female</td>\n",
       "      <td>39.0</td>\n",
       "      <td>1</td>\n",
       "      <td>1</td>\n",
       "      <td>110413</td>\n",
       "      <td>79.6500</td>\n",
       "      <td>E67</td>\n",
       "      <td>S</td>\n",
       "      <td>4.390119</td>\n",
       "    </tr>\n",
       "    <tr>\n",
       "      <th>585</th>\n",
       "      <td>1</td>\n",
       "      <td>Taussig, Miss. Ruth</td>\n",
       "      <td>female</td>\n",
       "      <td>18.0</td>\n",
       "      <td>0</td>\n",
       "      <td>2</td>\n",
       "      <td>110413</td>\n",
       "      <td>79.6500</td>\n",
       "      <td>E68</td>\n",
       "      <td>S</td>\n",
       "      <td>4.390119</td>\n",
       "    </tr>\n",
       "    <tr>\n",
       "      <th>61</th>\n",
       "      <td>1</td>\n",
       "      <td>Icard, Miss. Amelie</td>\n",
       "      <td>female</td>\n",
       "      <td>38.0</td>\n",
       "      <td>0</td>\n",
       "      <td>0</td>\n",
       "      <td>113572</td>\n",
       "      <td>80.0000</td>\n",
       "      <td>B28</td>\n",
       "      <td>NaN</td>\n",
       "      <td>4.394449</td>\n",
       "    </tr>\n",
       "    <tr>\n",
       "      <th>829</th>\n",
       "      <td>1</td>\n",
       "      <td>Stone, Mrs. George Nelson (Martha Evelyn)</td>\n",
       "      <td>female</td>\n",
       "      <td>62.0</td>\n",
       "      <td>0</td>\n",
       "      <td>0</td>\n",
       "      <td>113572</td>\n",
       "      <td>80.0000</td>\n",
       "      <td>B28</td>\n",
       "      <td>NaN</td>\n",
       "      <td>4.394449</td>\n",
       "    </tr>\n",
       "    <tr>\n",
       "      <th>445</th>\n",
       "      <td>1</td>\n",
       "      <td>Dodge, Master. Washington</td>\n",
       "      <td>male</td>\n",
       "      <td>4.0</td>\n",
       "      <td>0</td>\n",
       "      <td>2</td>\n",
       "      <td>33638</td>\n",
       "      <td>81.8583</td>\n",
       "      <td>A34</td>\n",
       "      <td>S</td>\n",
       "      <td>4.417132</td>\n",
       "    </tr>\n",
       "    <tr>\n",
       "      <th>1184</th>\n",
       "      <td>1</td>\n",
       "      <td>Dodge, Dr. Washington</td>\n",
       "      <td>male</td>\n",
       "      <td>53.0</td>\n",
       "      <td>1</td>\n",
       "      <td>1</td>\n",
       "      <td>33638</td>\n",
       "      <td>81.8583</td>\n",
       "      <td>A34</td>\n",
       "      <td>S</td>\n",
       "      <td>4.417132</td>\n",
       "    </tr>\n",
       "    <tr>\n",
       "      <th>1265</th>\n",
       "      <td>1</td>\n",
       "      <td>Dodge, Mrs. Washington (Ruth Vidaver)</td>\n",
       "      <td>female</td>\n",
       "      <td>54.0</td>\n",
       "      <td>1</td>\n",
       "      <td>1</td>\n",
       "      <td>33638</td>\n",
       "      <td>81.8583</td>\n",
       "      <td>A34</td>\n",
       "      <td>S</td>\n",
       "      <td>4.417132</td>\n",
       "    </tr>\n",
       "  </tbody>\n",
       "</table>\n",
       "</div>"
      ],
      "text/plain": [
       "      Pclass                                               Name     Sex   Age  \\\n",
       "139        1                                 Giglio, Mr. Victor    male  24.0   \n",
       "256        1                     Thorne, Mrs. Gertrude Maybelle  female  28.0   \n",
       "587        1                   Frolicher-Stehli, Mr. Maxmillian    male  60.0   \n",
       "789        1                           Guggenheim, Mr. Benjamin    male  46.0   \n",
       "1218       1        Rosenshine, Mr. George (Mr George Thorne\")\"    male  46.0   \n",
       "1288       1  Frolicher-Stehli, Mrs. Maxmillian (Margaretha ...  female  48.0   \n",
       "262        1                                  Taussig, Mr. Emil    male  52.0   \n",
       "558        1             Taussig, Mrs. Emil (Tillie Mandelbaum)  female  39.0   \n",
       "585        1                                Taussig, Miss. Ruth  female  18.0   \n",
       "61         1                                Icard, Miss. Amelie  female  38.0   \n",
       "829        1          Stone, Mrs. George Nelson (Martha Evelyn)  female  62.0   \n",
       "445        1                          Dodge, Master. Washington    male   4.0   \n",
       "1184       1                              Dodge, Dr. Washington    male  53.0   \n",
       "1265       1              Dodge, Mrs. Washington (Ruth Vidaver)  female  54.0   \n",
       "\n",
       "      SibSp  Parch    Ticket     Fare    Cabin Embarked  Fare_Log1p  \n",
       "139       0      0  PC 17593  79.2000      B86        C    4.384524  \n",
       "256       0      0  PC 17585  79.2000      NaN        C    4.384524  \n",
       "587       1      1     13567  79.2000      B41        C    4.384524  \n",
       "789       0      0  PC 17593  79.2000  B82 B84        C    4.384524  \n",
       "1218      0      0  PC 17585  79.2000      NaN        C    4.384524  \n",
       "1288      1      1     13567  79.2000      B41        C    4.384524  \n",
       "262       1      1    110413  79.6500      E67        S    4.390119  \n",
       "558       1      1    110413  79.6500      E67        S    4.390119  \n",
       "585       0      2    110413  79.6500      E68        S    4.390119  \n",
       "61        0      0    113572  80.0000      B28      NaN    4.394449  \n",
       "829       0      0    113572  80.0000      B28      NaN    4.394449  \n",
       "445       0      2     33638  81.8583      A34        S    4.417132  \n",
       "1184      1      1     33638  81.8583      A34        S    4.417132  \n",
       "1265      1      1     33638  81.8583      A34        S    4.417132  "
      ]
     },
     "execution_count": 46,
     "metadata": {},
     "output_type": "execute_result"
    }
   ],
   "source": [
    "data[(data.Fare<82)&(data.Fare>79)].sort_values(by='Fare')"
   ]
  },
  {
   "cell_type": "code",
   "execution_count": 47,
   "metadata": {
    "ExecuteTime": {
     "end_time": "2019-09-20T08:31:14.197394Z",
     "start_time": "2019-09-20T08:31:14.170933Z"
    }
   },
   "outputs": [],
   "source": [
    "#data.Embarked.fillna('S',inplace=True)\n",
    "data.Embarked.fillna(data[\"Embarked\"].describe().top,inplace=True)\n",
    "train_df.Embarked.fillna(data[\"Embarked\"].describe().top,inplace=True)\n",
    "test_df.Embarked.fillna(data[\"Embarked\"].describe().top,inplace=True)"
   ]
  },
  {
   "cell_type": "markdown",
   "metadata": {},
   "source": [
    "#### 分析"
   ]
  },
  {
   "cell_type": "code",
   "execution_count": 48,
   "metadata": {
    "ExecuteTime": {
     "end_time": "2019-09-20T08:31:15.651481Z",
     "start_time": "2019-09-20T08:31:15.365596Z"
    }
   },
   "outputs": [
    {
     "data": {
      "image/png": "[encoded data removed]",
      "text/plain": [
       "<Figure size 432x288 with 1 Axes>"
      ]
     },
     "metadata": {},
     "output_type": "display_data"
    }
   ],
   "source": [
    "fcol = 'Embarked'\n",
    "g=sns.barplot(data=train_df,x=fcol,y=\"Survived\")\n",
    "g.set_ylabel(\"Survival Probability\")\n",
    "plt.show()\n",
    "# ---C生还率较高"
   ]
  },
  {
   "cell_type": "code",
   "execution_count": 49,
   "metadata": {
    "ExecuteTime": {
     "end_time": "2019-09-20T08:31:16.396463Z",
     "start_time": "2019-09-20T08:31:16.371469Z"
    }
   },
   "outputs": [
    {
     "name": "stdout",
     "output_type": "stream",
     "text": [
      "Embarked (array([2.04644013e+01, 1.08467891e-02, 5.48920482e+00]), array([6.07507131e-06, 9.17051963e-01, 1.91342437e-02]))\n"
     ]
    }
   ],
   "source": [
    "# 测试相关性\n",
    "fcol = 'Embarked'\n",
    "t1 = train_df[[fcol, 'Survived']].dropna() #临时dropno\n",
    "t2 = pd.get_dummies(t1[[fcol]]) #对类别临时dummy\n",
    "print( fcol, chi2(t2, t1['Survived']))"
   ]
  },
  {
   "cell_type": "code",
   "execution_count": 50,
   "metadata": {
    "ExecuteTime": {
     "end_time": "2019-09-20T08:31:16.995786Z",
     "start_time": "2019-09-20T08:31:16.972113Z"
    }
   },
   "outputs": [
    {
     "ename": "AttributeError",
     "evalue": "module 'seaborn' has no attribute 'catplot'",
     "output_type": "error",
     "traceback": [
      "\u001b[0;31m---------------------------------------------------------------------------\u001b[0m",
      "\u001b[0;31mAttributeError\u001b[0m                            Traceback (most recent call last)",
      "\u001b[0;32m<ipython-input-50-d6da526769d1>\u001b[0m in \u001b[0;36m<module>\u001b[0;34m()\u001b[0m\n\u001b[1;32m      1\u001b[0m \u001b[0;31m# 进一步查看 Pclasst和Embarked的关系\u001b[0m\u001b[0;34m\u001b[0m\u001b[0;34m\u001b[0m\u001b[0m\n\u001b[0;32m----> 2\u001b[0;31m \u001b[0mg\u001b[0m\u001b[0;34m=\u001b[0m\u001b[0msns\u001b[0m\u001b[0;34m.\u001b[0m\u001b[0mcatplot\u001b[0m\u001b[0;34m(\u001b[0m\u001b[0mdata\u001b[0m\u001b[0;34m=\u001b[0m\u001b[0mtrain_df\u001b[0m\u001b[0;34m,\u001b[0m\u001b[0mx\u001b[0m\u001b[0;34m=\u001b[0m\u001b[0;34m\"Pclass\"\u001b[0m\u001b[0;34m,\u001b[0m\u001b[0mcol\u001b[0m\u001b[0;34m=\u001b[0m\u001b[0;34m\"Embarked\"\u001b[0m\u001b[0;34m,\u001b[0m\u001b[0mheight\u001b[0m\u001b[0;34m=\u001b[0m\u001b[0;36m3\u001b[0m\u001b[0;34m,\u001b[0m\u001b[0mkind\u001b[0m\u001b[0;34m=\u001b[0m\u001b[0;34m\"count\"\u001b[0m\u001b[0;34m,\u001b[0m\u001b[0mpalette\u001b[0m\u001b[0;34m=\u001b[0m\u001b[0;34m\"muted\"\u001b[0m\u001b[0;34m)\u001b[0m\u001b[0;34m\u001b[0m\u001b[0m\n\u001b[0m\u001b[1;32m      3\u001b[0m \u001b[0mg\u001b[0m \u001b[0;34m=\u001b[0m \u001b[0mg\u001b[0m\u001b[0;34m.\u001b[0m\u001b[0mset_ylabels\u001b[0m\u001b[0;34m(\u001b[0m\u001b[0;34m\"Count\"\u001b[0m\u001b[0;34m)\u001b[0m\u001b[0;34m\u001b[0m\u001b[0m\n\u001b[1;32m      4\u001b[0m \u001b[0mplt\u001b[0m\u001b[0;34m.\u001b[0m\u001b[0mshow\u001b[0m\u001b[0;34m(\u001b[0m\u001b[0;34m)\u001b[0m\u001b[0;34m\u001b[0m\u001b[0m\n",
      "\u001b[0;31mAttributeError\u001b[0m: module 'seaborn' has no attribute 'catplot'"
     ]
    }
   ],
   "source": [
    "# 进一步查看 Pclasst和Embarked的关系\n",
    "g=sns.catplot(data=train_df,x=\"Pclass\",col=\"Embarked\",height=3,kind=\"count\",palette=\"muted\")\n",
    "g = g.set_ylabels(\"Count\")\n",
    "plt.show()"
   ]
  },
  {
   "cell_type": "markdown",
   "metadata": {},
   "source": [
    "### 船舱Cabin"
   ]
  },
  {
   "cell_type": "code",
   "execution_count": 51,
   "metadata": {
    "ExecuteTime": {
     "end_time": "2019-09-20T08:31:41.998635Z",
     "start_time": "2019-09-20T08:31:41.983237Z"
    }
   },
   "outputs": [
    {
     "name": "stdout",
     "output_type": "stream",
     "text": [
      "count             295\n",
      "unique            186\n",
      "top       C23 C25 C27\n",
      "freq                6\n",
      "Name: Cabin, dtype: object\n",
      "null num is 1014\n"
     ]
    }
   ],
   "source": [
    "print(data[\"Cabin\"].describe())\n",
    "print('null num is', data[\"Cabin\"].isnull().sum())"
   ]
  },
  {
   "cell_type": "code",
   "execution_count": 52,
   "metadata": {
    "ExecuteTime": {
     "end_time": "2019-09-20T08:31:42.549275Z",
     "start_time": "2019-09-20T08:31:42.538725Z"
    }
   },
   "outputs": [],
   "source": [
    "# 确实太多，直接填补为X，也可以考虑去掉，但是先填充看是否有相关性，因为舱位信息可能有用\n",
    "data[\"Cabin\"].fillna('X', inplace=True)\n",
    "train_df[\"Cabin\"].fillna('X', inplace=True)\n",
    "test_df[\"Cabin\"].fillna('X', inplace=True)"
   ]
  },
  {
   "cell_type": "code",
   "execution_count": 53,
   "metadata": {
    "ExecuteTime": {
     "end_time": "2019-09-20T08:31:43.131853Z",
     "start_time": "2019-09-20T08:31:43.121483Z"
    }
   },
   "outputs": [],
   "source": [
    "# 其他Cabin，经观察数据，可以发现同字母开头的应该舱位类似，所以进行合并\n",
    "data[\"Cabin\"] = data[\"Cabin\"].str[0]\n",
    "train_df[\"Cabin\"] = train_df[\"Cabin\"].str[0]"
   ]
  },
  {
   "cell_type": "code",
   "execution_count": 54,
   "metadata": {
    "ExecuteTime": {
     "end_time": "2019-09-20T08:31:43.639723Z",
     "start_time": "2019-09-20T08:31:43.622322Z"
    }
   },
   "outputs": [
    {
     "data": {
      "text/plain": [
       "Cabin\n",
       "A      22\n",
       "B      65\n",
       "C      94\n",
       "D      46\n",
       "E      41\n",
       "F      21\n",
       "G       5\n",
       "T       1\n",
       "X    1014\n",
       "Name: Cabin, dtype: int64"
      ]
     },
     "execution_count": 54,
     "metadata": {},
     "output_type": "execute_result"
    }
   ],
   "source": [
    "data[\"Cabin\"].groupby(data[\"Cabin\"]).count()"
   ]
  },
  {
   "cell_type": "code",
   "execution_count": 55,
   "metadata": {
    "ExecuteTime": {
     "end_time": "2019-09-20T08:31:44.642238Z",
     "start_time": "2019-09-20T08:31:44.222776Z"
    }
   },
   "outputs": [
    {
     "data": {
      "image/png": "[encoded data removed]",
      "text/plain": [
       "<Figure size 432x288 with 1 Axes>"
      ]
     },
     "metadata": {},
     "output_type": "display_data"
    }
   ],
   "source": [
    "# 类别特征\n",
    "g=sns.barplot(data=train_df,x=\"Cabin\",y=\"Survived\")\n",
    "g.set_ylabel(\"Survival Probability\")\n",
    "plt.show()"
   ]
  },
  {
   "cell_type": "code",
   "execution_count": 56,
   "metadata": {
    "ExecuteTime": {
     "end_time": "2019-09-20T08:31:45.294265Z",
     "start_time": "2019-09-20T08:31:45.263503Z"
    }
   },
   "outputs": [
    {
     "name": "stdout",
     "output_type": "stream",
     "text": [
      "Cabin (array([ 0.4417937 , 28.117224  , 11.841658  , 20.663183  , 19.17922   ,\n",
      "        2.9939399 ,  0.22878735,  0.6226867 , 99.25299   ], dtype=float32), array([5.0643033e-01, 1.4415870e-07, 6.0618838e-04, 6.2331496e-06,\n",
      "       1.3316546e-05, 8.3923630e-02, 6.3254207e-01, 4.3026105e-01,\n",
      "       3.0911039e-22], dtype=float32))\n",
      "Cabin (array([ 0.43511648, 25.87558056, 10.9367295 , 19.48964625, 18.14063848,\n",
      "        2.9469702 ,  0.22821398,  0.62295082, 20.48831435]), array([5.09488990e-01, 3.64146757e-07, 9.42764388e-04, 1.01146449e-05,\n",
      "       2.05175592e-05, 8.60387225e-02, 6.32851311e-01, 4.29952852e-01,\n",
      "       5.99964246e-06]))\n"
     ]
    }
   ],
   "source": [
    "# 测试相关性\n",
    "fcol = 'Cabin'\n",
    "t1 = train_df[[fcol, 'Survived']].dropna() #临时dropno\n",
    "t2 = pd.get_dummies(t1[[fcol]]) #对类别临时dummy\n",
    "print( fcol, f_classif(t2, t1['Survived']))\n",
    "print( fcol, chi2(t2, t1['Survived']))"
   ]
  },
  {
   "cell_type": "markdown",
   "metadata": {},
   "source": [
    "### 姓名Name"
   ]
  },
  {
   "cell_type": "code",
   "execution_count": 57,
   "metadata": {
    "ExecuteTime": {
     "end_time": "2019-09-20T08:31:46.594888Z",
     "start_time": "2019-09-20T08:31:46.576633Z"
    }
   },
   "outputs": [
    {
     "name": "stdout",
     "output_type": "stream",
     "text": [
      "count                                        891\n",
      "unique                                       891\n",
      "top       Taussig, Mrs. Emil (Tillie Mandelbaum)\n",
      "freq                                           1\n",
      "Name: Name, dtype: object\n"
     ]
    }
   ],
   "source": [
    "print(train_df[\"Name\"].describe())"
   ]
  },
  {
   "cell_type": "markdown",
   "metadata": {},
   "source": [
    "## 特征提取"
   ]
  },
  {
   "cell_type": "code",
   "execution_count": 58,
   "metadata": {
    "ExecuteTime": {
     "end_time": "2019-09-20T08:31:49.364934Z",
     "start_time": "2019-09-20T08:31:49.324038Z"
    }
   },
   "outputs": [
    {
     "data": {
      "text/html": [
       "<div>\n",
       "<style scoped>\n",
       "    .dataframe tbody tr th:only-of-type {\n",
       "        vertical-align: middle;\n",
       "    }\n",
       "\n",
       "    .dataframe tbody tr th {\n",
       "        vertical-align: top;\n",
       "    }\n",
       "\n",
       "    .dataframe thead th {\n",
       "        text-align: right;\n",
       "    }\n",
       "</style>\n",
       "<table border=\"1\" class=\"dataframe\">\n",
       "  <thead>\n",
       "    <tr style=\"text-align: right;\">\n",
       "      <th></th>\n",
       "      <th>Pclass</th>\n",
       "      <th>Name</th>\n",
       "      <th>Sex</th>\n",
       "      <th>Age</th>\n",
       "      <th>SibSp</th>\n",
       "      <th>Parch</th>\n",
       "      <th>Ticket</th>\n",
       "      <th>Fare</th>\n",
       "      <th>Cabin</th>\n",
       "      <th>Embarked</th>\n",
       "      <th>Fare_Log1p</th>\n",
       "    </tr>\n",
       "  </thead>\n",
       "  <tbody>\n",
       "    <tr>\n",
       "      <th>0</th>\n",
       "      <td>3</td>\n",
       "      <td>Braund, Mr. Owen Harris</td>\n",
       "      <td>male</td>\n",
       "      <td>22.0</td>\n",
       "      <td>1</td>\n",
       "      <td>0</td>\n",
       "      <td>A/5 21171</td>\n",
       "      <td>7.2500</td>\n",
       "      <td>X</td>\n",
       "      <td>S</td>\n",
       "      <td>2.110213</td>\n",
       "    </tr>\n",
       "    <tr>\n",
       "      <th>1</th>\n",
       "      <td>1</td>\n",
       "      <td>Cumings, Mrs. John Bradley (Florence Briggs Th...</td>\n",
       "      <td>female</td>\n",
       "      <td>38.0</td>\n",
       "      <td>1</td>\n",
       "      <td>0</td>\n",
       "      <td>PC 17599</td>\n",
       "      <td>71.2833</td>\n",
       "      <td>C</td>\n",
       "      <td>C</td>\n",
       "      <td>4.280593</td>\n",
       "    </tr>\n",
       "    <tr>\n",
       "      <th>2</th>\n",
       "      <td>3</td>\n",
       "      <td>Heikkinen, Miss. Laina</td>\n",
       "      <td>female</td>\n",
       "      <td>26.0</td>\n",
       "      <td>0</td>\n",
       "      <td>0</td>\n",
       "      <td>STON/O2. 3101282</td>\n",
       "      <td>7.9250</td>\n",
       "      <td>X</td>\n",
       "      <td>S</td>\n",
       "      <td>2.188856</td>\n",
       "    </tr>\n",
       "    <tr>\n",
       "      <th>3</th>\n",
       "      <td>1</td>\n",
       "      <td>Futrelle, Mrs. Jacques Heath (Lily May Peel)</td>\n",
       "      <td>female</td>\n",
       "      <td>35.0</td>\n",
       "      <td>1</td>\n",
       "      <td>0</td>\n",
       "      <td>113803</td>\n",
       "      <td>53.1000</td>\n",
       "      <td>C</td>\n",
       "      <td>S</td>\n",
       "      <td>3.990834</td>\n",
       "    </tr>\n",
       "    <tr>\n",
       "      <th>4</th>\n",
       "      <td>3</td>\n",
       "      <td>Allen, Mr. William Henry</td>\n",
       "      <td>male</td>\n",
       "      <td>35.0</td>\n",
       "      <td>0</td>\n",
       "      <td>0</td>\n",
       "      <td>373450</td>\n",
       "      <td>8.0500</td>\n",
       "      <td>X</td>\n",
       "      <td>S</td>\n",
       "      <td>2.202765</td>\n",
       "    </tr>\n",
       "  </tbody>\n",
       "</table>\n",
       "</div>"
      ],
      "text/plain": [
       "   Pclass                                               Name     Sex   Age  \\\n",
       "0       3                            Braund, Mr. Owen Harris    male  22.0   \n",
       "1       1  Cumings, Mrs. John Bradley (Florence Briggs Th...  female  38.0   \n",
       "2       3                             Heikkinen, Miss. Laina  female  26.0   \n",
       "3       1       Futrelle, Mrs. Jacques Heath (Lily May Peel)  female  35.0   \n",
       "4       3                           Allen, Mr. William Henry    male  35.0   \n",
       "\n",
       "   SibSp  Parch            Ticket     Fare Cabin Embarked  Fare_Log1p  \n",
       "0      1      0         A/5 21171   7.2500     X        S    2.110213  \n",
       "1      1      0          PC 17599  71.2833     C        C    4.280593  \n",
       "2      0      0  STON/O2. 3101282   7.9250     X        S    2.188856  \n",
       "3      1      0            113803  53.1000     C        S    3.990834  \n",
       "4      0      0            373450   8.0500     X        S    2.202765  "
      ]
     },
     "execution_count": 58,
     "metadata": {},
     "output_type": "execute_result"
    }
   ],
   "source": [
    "data.head()"
   ]
  },
  {
   "cell_type": "markdown",
   "metadata": {},
   "source": [
    "### 从Name中获取头衔"
   ]
  },
  {
   "cell_type": "code",
   "execution_count": 466,
   "metadata": {
    "ExecuteTime": {
     "end_time": "2019-09-16T14:24:06.085000Z",
     "start_time": "2019-09-16T14:24:06.080000Z"
    }
   },
   "outputs": [],
   "source": [
    "def name_extract(word):\n",
    "    return word.split(',')[1].split('.')[0].strip()"
   ]
  },
  {
   "cell_type": "code",
   "execution_count": 467,
   "metadata": {
    "ExecuteTime": {
     "end_time": "2019-09-16T14:24:06.657000Z",
     "start_time": "2019-09-16T14:24:06.648000Z"
    }
   },
   "outputs": [],
   "source": [
    "dfTitle = pd.DataFrame({'Title':data['Name'].apply(name_extract)})"
   ]
  },
  {
   "cell_type": "code",
   "execution_count": 468,
   "metadata": {
    "ExecuteTime": {
     "end_time": "2019-09-16T14:24:07.614000Z",
     "start_time": "2019-09-16T14:24:07.601000Z"
    }
   },
   "outputs": [
    {
     "data": {
      "text/plain": [
       "Title\n",
       "Capt              1\n",
       "Col               4\n",
       "Don               1\n",
       "Dona              1\n",
       "Dr                8\n",
       "Jonkheer          1\n",
       "Lady              1\n",
       "Major             2\n",
       "Master           61\n",
       "Miss            260\n",
       "Mlle              2\n",
       "Mme               1\n",
       "Mr              757\n",
       "Mrs             197\n",
       "Ms                2\n",
       "Rev               8\n",
       "Sir               1\n",
       "the Countess      1\n",
       "Name: Title, dtype: int64"
      ]
     },
     "execution_count": 468,
     "metadata": {},
     "output_type": "execute_result"
    }
   ],
   "source": [
    "dfTitle.groupby('Title').Title.count()"
   ]
  },
  {
   "cell_type": "code",
   "execution_count": 469,
   "metadata": {
    "ExecuteTime": {
     "end_time": "2019-09-16T14:24:08.787000Z",
     "start_time": "2019-09-16T14:24:08.765000Z"
    }
   },
   "outputs": [
    {
     "data": {
      "text/html": [
       "<div>\n",
       "<style scoped>\n",
       "    .dataframe tbody tr th:only-of-type {\n",
       "        vertical-align: middle;\n",
       "    }\n",
       "\n",
       "    .dataframe tbody tr th {\n",
       "        vertical-align: top;\n",
       "    }\n",
       "\n",
       "    .dataframe thead th {\n",
       "        text-align: right;\n",
       "    }\n",
       "</style>\n",
       "<table border=\"1\" class=\"dataframe\">\n",
       "  <thead>\n",
       "    <tr style=\"text-align: right;\">\n",
       "      <th></th>\n",
       "      <th>Title</th>\n",
       "    </tr>\n",
       "  </thead>\n",
       "  <tbody>\n",
       "    <tr>\n",
       "      <th>count</th>\n",
       "      <td>1309</td>\n",
       "    </tr>\n",
       "    <tr>\n",
       "      <th>unique</th>\n",
       "      <td>18</td>\n",
       "    </tr>\n",
       "    <tr>\n",
       "      <th>top</th>\n",
       "      <td>Mr</td>\n",
       "    </tr>\n",
       "    <tr>\n",
       "      <th>freq</th>\n",
       "      <td>757</td>\n",
       "    </tr>\n",
       "  </tbody>\n",
       "</table>\n",
       "</div>"
      ],
      "text/plain": [
       "       Title\n",
       "count   1309\n",
       "unique    18\n",
       "top       Mr\n",
       "freq     757"
      ]
     },
     "execution_count": 469,
     "metadata": {},
     "output_type": "execute_result"
    }
   ],
   "source": [
    "dfTitle.describe()"
   ]
  },
  {
   "cell_type": "code",
   "execution_count": 470,
   "metadata": {
    "ExecuteTime": {
     "end_time": "2019-09-16T14:24:10.287000Z",
     "start_time": "2019-09-16T14:24:10.277000Z"
    }
   },
   "outputs": [
    {
     "data": {
      "text/plain": [
       "Title\n",
       "Master     61\n",
       "Miss      260\n",
       "Mr        757\n",
       "Mrs       197\n",
       "other      34\n",
       "Name: Title, dtype: int64"
      ]
     },
     "execution_count": 470,
     "metadata": {},
     "output_type": "execute_result"
    }
   ],
   "source": [
    "# 可以把特殊称谓的人归为一类，也可以保留\n",
    "# 以下归为一类\n",
    "TitleNormal = ['Mr', 'Mrs', 'Miss', 'Master'] #保留4个人数最多的称谓\n",
    "titleSimple = dfTitle.Title.apply(lambda x: x if x in TitleNormal else \"other\")\n",
    "titleSimple.groupby(titleSimple).count()"
   ]
  },
  {
   "cell_type": "markdown",
   "metadata": {},
   "source": [
    "#### Title 相关意义  \n",
    "Capt，船长\n",
    "Col, Colonel，上校  \n",
    "Don，n. <西>（置于男士名字前的尊称）先生，堂  \n",
    "Dona，是西班牙语对女子的称谓，相当于英语的 Lady  \n",
    "Dr.= doctor，医生/博士  \n",
    "Lady, 女士，指成年女子，有些人尤其是长者认为这样说比较礼貌  \n",
    "Jonkheer是贵族  \n",
    "Major，意思有少校人意思  \n",
    "Master，佣人对未成年男少主人的称呼,相当于汉语的\"少爷\"。  \n",
    "Mr.= mister，先生  \n",
    "Mrs.= mistress，太太/夫人  \n",
    "Miss,复数为misses，对未婚妇女用,  \n",
    "Ms.或Mz，美国近来用来称呼婚姻状态不明的妇女  \n",
    "Mme, Madame简写是Mme.,复数是mesdames(简写是Mme)  \n",
    "Mlle,小姐  \n",
    "Rev.= reverend，用于基督教的牧师，如the Rev. Mr.Smith  \n",
    "The Countless，女伯爵"
   ]
  },
  {
   "cell_type": "code",
   "execution_count": 471,
   "metadata": {
    "ExecuteTime": {
     "end_time": "2019-09-16T14:24:12.400000Z",
     "start_time": "2019-09-16T14:24:12.386000Z"
    }
   },
   "outputs": [],
   "source": [
    "#将title按意义合并为几个组\n",
    "dfTitle=dfTitle.replace(['Mr','Don'],'Mr')\n",
    "dfTitle=dfTitle.replace(['Mrs','Miss','Mme','Ms','Lady','Dona','Mlle'],'Ms')\n",
    "# dfTitle=dfTitle.replace(['Sir','Major','Col','Capt'],'Major') #Capt 和 Rev明显类似\n",
    "dfTitle=dfTitle.replace(['Master','Jonkheer','the Countess'],'Jonkheer')\n",
    "# dfTitle=dfTitle.replace(['Rev','Dr'],'Rev') # 这两个并不一致"
   ]
  },
  {
   "cell_type": "code",
   "execution_count": 472,
   "metadata": {
    "ExecuteTime": {
     "end_time": "2019-09-16T14:24:13.089000Z",
     "start_time": "2019-09-16T14:24:13.083000Z"
    }
   },
   "outputs": [],
   "source": [
    "#更换方式\n",
    "dfTitle=dfTitle.replace(['Sir','Major','Col'],'Major') \n",
    "dfTitle=dfTitle.replace(['Rev','Capt'],'Rev') #Capt 和 Rev明显类似"
   ]
  },
  {
   "cell_type": "code",
   "execution_count": 473,
   "metadata": {
    "ExecuteTime": {
     "end_time": "2019-09-16T14:24:13.999000Z",
     "start_time": "2019-09-16T14:24:13.993000Z"
    }
   },
   "outputs": [
    {
     "data": {
      "text/plain": [
       "Title\n",
       "Dr            8\n",
       "Jonkheer     63\n",
       "Major         7\n",
       "Mr          758\n",
       "Ms          464\n",
       "Rev           9\n",
       "Name: Title, dtype: int64"
      ]
     },
     "execution_count": 473,
     "metadata": {},
     "output_type": "execute_result"
    }
   ],
   "source": [
    "dfTitle.groupby('Title').Title.count()"
   ]
  },
  {
   "cell_type": "code",
   "execution_count": 474,
   "metadata": {
    "ExecuteTime": {
     "end_time": "2019-09-16T14:24:15.956000Z",
     "start_time": "2019-09-16T14:24:15.948000Z"
    }
   },
   "outputs": [],
   "source": [
    "data['Title'] = dfTitle #titleSimple #dfTitle \n",
    "train_df['Title'] = dfTitle[:size_train_df]\n",
    "train_df['TitleSimple'] = titleSimple[:size_train_df]"
   ]
  },
  {
   "cell_type": "code",
   "execution_count": 481,
   "metadata": {
    "ExecuteTime": {
     "end_time": "2019-09-16T14:26:14.180000Z",
     "start_time": "2019-09-16T14:26:13.749000Z"
    }
   },
   "outputs": [
    {
     "data": {
      "image/png": "[encoded data removed]",
      "text/plain": [
       "<Figure size 720x360 with 1 Axes>"
      ]
     },
     "metadata": {
      "needs_background": "light"
     },
     "output_type": "display_data"
    },
    {
     "data": {
      "image/png": "[encoded data removed]",
      "text/plain": [
       "<Figure size 720x360 with 1 Axes>"
      ]
     },
     "metadata": {
      "needs_background": "light"
     },
     "output_type": "display_data"
    }
   ],
   "source": [
    "#我们查看各组的幸存率情况：\n",
    "plt.figure(figsize=(10,5))\n",
    "g=sns.barplot(data=train_df,x=\"Title\",y=\"Survived\")\n",
    "g.set_ylabel(\"Survival Probability\")\n",
    "plt.show()\n",
    "\n",
    "plt.figure(figsize=(10,5))\n",
    "g=sns.barplot(data=train_df,x=\"TitleSimple\",y=\"Survived\")\n",
    "g.set_ylabel(\"Survival Probability\")\n",
    "plt.show()"
   ]
  },
  {
   "cell_type": "code",
   "execution_count": 479,
   "metadata": {
    "ExecuteTime": {
     "end_time": "2019-09-16T14:25:46.238000Z",
     "start_time": "2019-09-16T14:25:46.202000Z"
    }
   },
   "outputs": [
    {
     "name": "stdout",
     "output_type": "stream",
     "text": [
      " Score [5.92259337e-02 6.24922963e+00 9.87834340e-01 1.13325148e+02\n",
      " 1.67703935e+02 4.36065574e+00]\n",
      "Pvalue [8.07723593e-01 1.24247332e-02 3.20272257e-01 1.83139695e-26\n",
      " 2.34784561e-38 3.67781458e-02]\n",
      " Score [  6.18042494  75.85558079 112.80578452  88.05039172   0.41932701]\n",
      "Pvalue [1.29171252e-02 3.05188656e-18 2.37980506e-26 6.38080135e-21\n",
      " 5.17273046e-01]\n"
     ]
    }
   ],
   "source": [
    "testcorr('Title', 'c', True)\n",
    "testcorr('TitleSimple', 'c', True)"
   ]
  },
  {
   "cell_type": "markdown",
   "metadata": {},
   "source": [
    "### 从Name中获取姓氏"
   ]
  },
  {
   "cell_type": "code",
   "execution_count": 482,
   "metadata": {
    "ExecuteTime": {
     "end_time": "2019-09-16T14:27:33.704000Z",
     "start_time": "2019-09-16T14:27:33.698000Z"
    }
   },
   "outputs": [],
   "source": [
    "def lastname_extract(word):\n",
    "    return word.split(',')[0]"
   ]
  },
  {
   "cell_type": "code",
   "execution_count": 483,
   "metadata": {
    "ExecuteTime": {
     "end_time": "2019-09-16T14:27:34.161000Z",
     "start_time": "2019-09-16T14:27:34.155000Z"
    }
   },
   "outputs": [],
   "source": [
    "dfLastName = pd.DataFrame({'LastName':data['Name'].apply(lastname_extract)})"
   ]
  },
  {
   "cell_type": "code",
   "execution_count": 484,
   "metadata": {
    "ExecuteTime": {
     "end_time": "2019-09-16T14:27:34.706000Z",
     "start_time": "2019-09-16T14:27:34.692000Z"
    }
   },
   "outputs": [
    {
     "data": {
      "text/plain": [
       "LastName\n",
       "Abbing               1\n",
       "Abbott               3\n",
       "Abelseth             2\n",
       "Abelson              2\n",
       "Abrahamsson          1\n",
       "Abrahim              1\n",
       "Adahl                1\n",
       "Adams                1\n",
       "Ahlin                1\n",
       "Aks                  2\n",
       "Albimona             1\n",
       "Aldworth             1\n",
       "Alexander            1\n",
       "Alhomaki             1\n",
       "Ali                  2\n",
       "Allen                2\n",
       "Allison              4\n",
       "Allum                1\n",
       "Andersen             1\n",
       "Andersen-Jensen      1\n",
       "Anderson             1\n",
       "Andersson           11\n",
       "Andreasson           1\n",
       "Andrew               2\n",
       "Andrews              2\n",
       "Angheloff            1\n",
       "Angle                2\n",
       "Appleton             1\n",
       "Arnold-Franchi       2\n",
       "Aronsson             1\n",
       "                    ..\n",
       "Wilhelms             1\n",
       "Wilkes               1\n",
       "Willard              1\n",
       "Willer               1\n",
       "Willey               1\n",
       "Williams             5\n",
       "Williams-Lambert     1\n",
       "Wilson               1\n",
       "Windelov             1\n",
       "Wirz                 1\n",
       "Wiseman              1\n",
       "Wittevrongel         1\n",
       "Woolner              1\n",
       "Wright               2\n",
       "Yasbeck              2\n",
       "Young                1\n",
       "Youseff              1\n",
       "Yousif               1\n",
       "Yousseff             1\n",
       "Yrois                1\n",
       "Zabour               2\n",
       "Zakarian             2\n",
       "Zimmerman            1\n",
       "de Brito             1\n",
       "de Messemaeker       2\n",
       "de Mulder            1\n",
       "de Pelsmaeker        1\n",
       "del Carlo            2\n",
       "van Billiard         3\n",
       "van Melkebeke        1\n",
       "Name: LastName, Length: 875, dtype: int64"
      ]
     },
     "execution_count": 484,
     "metadata": {},
     "output_type": "execute_result"
    }
   ],
   "source": [
    "dfLastName.groupby('LastName').LastName.count() #较为分散，可以考虑是否使用"
   ]
  },
  {
   "cell_type": "code",
   "execution_count": 493,
   "metadata": {
    "ExecuteTime": {
     "end_time": "2019-09-16T14:31:31.331000Z",
     "start_time": "2019-09-16T14:31:31.318000Z"
    }
   },
   "outputs": [],
   "source": [
    "data['LastName'] = dfLastName #dfTitle #如果保留各类特殊称谓的话\n",
    "train_df['LastName'] = train_df['Name'].apply(lastname_extract)\n",
    "test_df['LastName'] = test_df['Name'].apply(lastname_extract)"
   ]
  },
  {
   "cell_type": "code",
   "execution_count": 492,
   "metadata": {
    "ExecuteTime": {
     "end_time": "2019-09-16T14:30:33.684000Z",
     "start_time": "2019-09-16T14:30:33.635000Z"
    }
   },
   "outputs": [
    {
     "name": "stdout",
     "output_type": "stream",
     "text": [
      " Score [0.62295082 0.11410699 0.11410699 0.62295082 0.62295082 0.62295082\n",
      " 1.60526316 1.60526316 0.62295082 0.62295082 1.24590164 0.11410699\n",
      " 0.03235548 0.62295082 1.60526316 1.60526316 0.99396031 0.62295082\n",
      " 0.62295082 0.11410699 1.60526316 1.60526316 1.24590164 0.62295082\n",
      " 0.62295082 2.26757981 1.60526316 1.24590164 1.60526316 0.62295082\n",
      " 1.60526316 0.11410699 6.42105263 0.62295082 0.62295082 0.62295082\n",
      " 1.60526316 0.62295082 1.60526316 1.24590164 1.60526316 1.60526316\n",
      " 0.62295082 0.62295082 0.62295082 0.11410699 1.60526316 3.21052632\n",
      " 0.62295082 3.21052632 3.21052632 1.60526316 1.60526316 0.62295082\n",
      " 0.62295082 0.62295082 0.62295082 1.60526316 1.60526316 0.62295082\n",
      " 3.21052632 1.60526316 1.60526316 0.62295082 1.60526316 1.60526316\n",
      " 0.62295082 1.86885246 1.86885246 0.62295082 1.60526316 0.62295082\n",
      " 1.60526316 1.24590164 0.62295082 0.62295082 2.26757981 0.62295082\n",
      " 0.62295082 1.60526316 1.60526316 0.62295082 0.62295082 0.62295082\n",
      " 1.60526316 1.24590164 0.62295082 1.60526316 3.21052632 1.24590164\n",
      " 1.60526316 0.62295082 0.62295082 0.62295082 0.62295082 0.62295082\n",
      " 1.60526316 1.24590164 1.60526316 0.62295082 2.02933563 0.62295082\n",
      " 0.62295082 0.62295082 3.21052632 1.24590164 0.62295082 1.60526316\n",
      " 1.60526316 1.60526316 0.62295082 1.60526316 0.62295082 1.60526316\n",
      " 1.60526316 0.62295082 0.62295082 1.60526316 1.24590164 0.62295082\n",
      " 0.62295082 0.62295082 1.01466782 1.60526316 0.62295082 1.60526316\n",
      " 0.62295082 0.62295082 0.62295082 0.62295082 3.21052632 0.62295082\n",
      " 0.62295082 0.62295082 0.11410699 0.62295082 1.60526316 0.62295082\n",
      " 1.60526316 0.62295082 0.62295082 3.21052632 1.24590164 1.60526316\n",
      " 0.62295082 0.62295082 0.62295082 0.03235548 1.60526316 1.60526316\n",
      " 0.11410699 0.62295082 0.62295082 1.60526316 3.21052632 0.62295082\n",
      " 1.60526316 0.62295082 3.21052632 0.62295082 1.60526316 0.62295082\n",
      " 1.60526316 0.62295082 0.62295082 1.60526316 0.62295082 3.21052632\n",
      " 1.60526316 0.62295082 0.62295082 0.62295082 0.62295082 1.86885246\n",
      " 0.62295082 1.60526316 0.62295082 1.60526316 1.60526316 0.62295082\n",
      " 0.62295082 0.62295082 1.60526316 0.62295082 1.60526316 0.03235548\n",
      " 1.60526316 2.49180328 0.62295082 0.22821398 0.62295082 1.60526316\n",
      " 3.21052632 1.60526316 1.60526316 0.62295082 0.62295082 0.62295082\n",
      " 0.11410699 0.62295082 0.62295082 0.62295082 0.62295082 1.60526316\n",
      " 0.62295082 0.62295082 0.62295082 0.62295082 0.62295082 0.62295082\n",
      " 0.62295082 0.62295082 0.62295082 1.60526316 0.62295082 1.60526316\n",
      " 3.21052632 0.62295082 1.01466782 0.62295082 3.73770492 1.01466782\n",
      " 0.62295082 0.62295082 1.60526316 0.62295082 0.62295082 2.49180328\n",
      " 0.62295082 1.24590164 0.11410699 0.62295082 3.21052632 0.62295082\n",
      " 0.62295082 1.86885246 1.60526316 0.62295082 0.62295082 2.26757981\n",
      " 0.62295082 0.22821398 0.62295082 0.22821398 1.60526316 0.62295082\n",
      " 1.60526316 3.21052632 1.60526316 1.60526316 0.62295082 1.60526316\n",
      " 0.62295082 0.62295082 0.62295082 3.21052632 1.60526316 1.86885246\n",
      " 3.21052632 1.60526316 0.11410699 0.62295082 1.60526316 0.62295082\n",
      " 0.62295082 0.11410699 1.60526316 1.60526316 0.62295082 0.62295082\n",
      " 1.60526316 1.01466782 0.62295082 0.62295082 0.62295082 1.60526316\n",
      " 1.60526316 0.62295082 0.62295082 0.62295082 0.11410699 1.60526316\n",
      " 1.60526316 0.62295082 0.62295082 0.62295082 1.86885246 1.60526316\n",
      " 1.60526316 1.60526316 0.62295082 1.86885246 0.34232097 1.24590164\n",
      " 0.62295082 1.60526316 0.03235548 0.62295082 0.62295082 0.11410699\n",
      " 0.62295082 0.62295082 1.60526316 0.62295082 0.11410699 0.62295082\n",
      " 2.26757981 0.62295082 1.60526316 0.62295082 0.62295082 1.60526316\n",
      " 0.62295082 1.60526316 0.62295082 0.62295082 0.62295082 0.62295082\n",
      " 0.62295082 0.62295082 0.62295082 0.62295082 0.62295082 0.62295082\n",
      " 0.11410699 1.60526316 1.60526316 1.01466782 1.24590164 1.60526316\n",
      " 1.60526316 1.60526316 2.49180328 1.60526316 0.62295082 1.60526316\n",
      " 0.62295082 1.60526316 0.62295082 0.62295082 0.62295082 1.60526316\n",
      " 0.62295082 0.62295082 0.62295082 0.62295082 0.62295082 0.62295082\n",
      " 0.62295082 1.60526316 1.60526316 0.62295082 1.24590164 0.62295082\n",
      " 1.60526316 1.60526316 0.62295082 1.60526316 0.62295082 1.60526316\n",
      " 0.62295082 1.60526316 1.60526316 1.60526316 0.62295082 1.60526316\n",
      " 0.62295082 0.11410699 1.60526316 0.62295082 1.60526316 1.60526316\n",
      " 0.62295082 0.62295082 0.62295082 1.60526316 0.62295082 1.60526316\n",
      " 0.62295082 1.60526316 3.21052632 1.60526316 0.62295082 1.60526316\n",
      " 1.60526316 1.60526316 0.62295082 0.62295082 0.62295082 0.62295082\n",
      " 0.62295082 3.21052632 1.60526316 0.62295082 0.62295082 0.03235548\n",
      " 0.62295082 0.62295082 0.11410699 0.62295082 0.62295082 0.62295082\n",
      " 0.62295082 1.60526316 0.62295082 0.62295082 0.62295082 3.21052632\n",
      " 0.62295082 0.03235548 0.62295082 1.24590164 0.62295082 1.60526316\n",
      " 3.21052632 1.60526316 0.62295082 0.62295082 1.60526316 0.62295082\n",
      " 3.21052632 0.62295082 0.62295082 1.60526316 3.21052632 0.62295082\n",
      " 0.11410699 0.62295082 1.01466782 0.62295082 1.01466782 1.60526316\n",
      " 0.62295082 0.62295082 3.21052632 1.60526316 0.62295082 1.60526316\n",
      " 0.62295082 0.62295082 0.62295082 1.60526316 1.60526316 0.62295082\n",
      " 0.03235548 0.62295082 0.62295082 1.60526316 1.60526316 1.60526316\n",
      " 0.62295082 0.62295082 1.60526316 1.86885246 1.24590164 0.62295082\n",
      " 1.24590164 0.62295082 1.60526316 0.62295082 0.62295082 1.60526316\n",
      " 0.62295082 2.49180328 3.73770492 0.62295082 0.62295082 1.60526316\n",
      " 0.62295082 0.62295082 0.62295082 0.62295082 0.62295082 0.11410699\n",
      " 0.62295082 0.62295082 0.11410699 0.62295082 0.62295082 0.62295082\n",
      " 1.60526316 1.60526316 3.21052632 0.62295082 0.62295082 1.24590164\n",
      " 0.62295082 0.62295082 1.60526316 1.60526316 1.60526316 1.60526316\n",
      " 0.62295082 0.62295082 0.62295082 1.60526316 3.21052632 0.62295082\n",
      " 0.62295082 0.62295082 0.62295082 0.62295082 0.11410699 0.62295082\n",
      " 1.60526316 3.1147541  0.62295082 4.81578947 1.60526316 0.62295082\n",
      " 0.62295082 0.62295082 0.62295082 1.60526316 0.62295082 0.62295082\n",
      " 0.62295082 1.60526316 0.62295082 0.62295082 1.24590164 0.62295082\n",
      " 1.60526316 1.60526316 0.62295082 1.60526316 0.62295082 0.62295082\n",
      " 3.21052632 1.24590164 1.60526316 0.62295082 4.36065574 1.60526316\n",
      " 1.60526316 0.62295082 0.62295082 3.21052632 0.62295082 0.62295082\n",
      " 0.62295082 0.62295082 0.62295082 1.60526316 1.60526316 0.62295082\n",
      " 1.60526316 0.62295082 1.60526316 0.62295082 1.60526316 1.60526316\n",
      " 1.60526316 0.11410699 0.62295082 1.60526316 1.60526316 0.62295082\n",
      " 0.62295082 0.62295082 0.62295082 1.60526316 0.62295082 3.73770492\n",
      " 0.62295082 1.60526316 0.62295082 0.62295082 1.60526316 0.62295082\n",
      " 0.62295082 0.30295513 0.62295082 0.62295082 0.62295082 1.60526316\n",
      " 1.60526316 1.60526316 0.62295082 0.62295082 0.11410699 0.62295082\n",
      " 1.60526316 0.62295082 1.60526316 0.62295082 0.62295082 1.60526316\n",
      " 1.24590164 1.60526316 1.60526316 0.62295082 0.62295082 1.24590164\n",
      " 1.60526316 1.01466782 3.21052632 1.01466782 0.62295082 1.60526316\n",
      " 1.60526316 0.11410699 0.62295082 0.62295082 0.62295082 0.62295082\n",
      " 1.60526316 0.62295082 1.60526316 0.62295082 1.60526316 0.62295082\n",
      " 1.60526316 1.60526316 0.62295082 1.60526316 1.60526316 1.24590164\n",
      " 0.62295082 1.86885246 0.62295082 0.62295082 0.62295082 0.62295082\n",
      " 0.62295082 1.86885246 0.62295082 0.62295082 0.62295082 0.62295082\n",
      " 1.60526316 1.60526316 0.62295082 1.60526316 0.11410699 0.62295082\n",
      " 1.60526316 1.60526316 1.01466782 0.62295082 1.24590164 3.21052632\n",
      " 0.62295082 0.62295082 0.62295082 1.60526316 0.62295082 0.30295513\n",
      " 0.62295082 0.62295082 0.62295082 1.60526316 0.62295082 0.11410699\n",
      " 1.60526316 0.62295082 0.62295082 0.62295082 0.62295082 1.24590164\n",
      " 0.62295082 1.60526316 1.60526316 0.62295082 0.62295082 0.62295082\n",
      " 0.62295082]\n",
      "Pvalue [0.42995285 0.73551597 0.73551597 0.42995285 0.42995285 0.42995285\n",
      " 0.20515894 0.20515894 0.42995285 0.42995285 0.26433669 0.73551597\n",
      " 0.85724969 0.42995285 0.20515894 0.20515894 0.31877636 0.42995285\n",
      " 0.42995285 0.73551597 0.20515894 0.20515894 0.26433669 0.42995285\n",
      " 0.42995285 0.13210606 0.20515894 0.26433669 0.20515894 0.42995285\n",
      " 0.20515894 0.73551597 0.01127753 0.42995285 0.42995285 0.42995285\n",
      " 0.20515894 0.42995285 0.20515894 0.26433669 0.20515894 0.20515894\n",
      " 0.42995285 0.42995285 0.42995285 0.73551597 0.20515894 0.07316594\n",
      " 0.42995285 0.07316594 0.07316594 0.20515894 0.20515894 0.42995285\n",
      " 0.42995285 0.42995285 0.42995285 0.20515894 0.20515894 0.42995285\n",
      " 0.07316594 0.20515894 0.20515894 0.42995285 0.20515894 0.20515894\n",
      " 0.42995285 0.17160657 0.17160657 0.42995285 0.20515894 0.42995285\n",
      " 0.20515894 0.26433669 0.42995285 0.42995285 0.13210606 0.42995285\n",
      " 0.42995285 0.20515894 0.20515894 0.42995285 0.42995285 0.42995285\n",
      " 0.20515894 0.26433669 0.42995285 0.20515894 0.07316594 0.26433669\n",
      " 0.20515894 0.42995285 0.42995285 0.42995285 0.42995285 0.42995285\n",
      " 0.20515894 0.26433669 0.20515894 0.42995285 0.15428804 0.42995285\n",
      " 0.42995285 0.42995285 0.07316594 0.26433669 0.42995285 0.20515894\n",
      " 0.20515894 0.20515894 0.42995285 0.20515894 0.42995285 0.20515894\n",
      " 0.20515894 0.42995285 0.42995285 0.20515894 0.26433669 0.42995285\n",
      " 0.42995285 0.42995285 0.31378717 0.20515894 0.42995285 0.20515894\n",
      " 0.42995285 0.42995285 0.42995285 0.42995285 0.07316594 0.42995285\n",
      " 0.42995285 0.42995285 0.73551597 0.42995285 0.20515894 0.42995285\n",
      " 0.20515894 0.42995285 0.42995285 0.07316594 0.26433669 0.20515894\n",
      " 0.42995285 0.42995285 0.42995285 0.85724969 0.20515894 0.20515894\n",
      " 0.73551597 0.42995285 0.42995285 0.20515894 0.07316594 0.42995285\n",
      " 0.20515894 0.42995285 0.07316594 0.42995285 0.20515894 0.42995285\n",
      " 0.20515894 0.42995285 0.42995285 0.20515894 0.42995285 0.07316594\n",
      " 0.20515894 0.42995285 0.42995285 0.42995285 0.42995285 0.17160657\n",
      " 0.42995285 0.20515894 0.42995285 0.20515894 0.20515894 0.42995285\n",
      " 0.42995285 0.42995285 0.20515894 0.42995285 0.20515894 0.85724969\n",
      " 0.20515894 0.11444053 0.42995285 0.63285131 0.42995285 0.20515894\n",
      " 0.07316594 0.20515894 0.20515894 0.42995285 0.42995285 0.42995285\n",
      " 0.73551597 0.42995285 0.42995285 0.42995285 0.42995285 0.20515894\n",
      " 0.42995285 0.42995285 0.42995285 0.42995285 0.42995285 0.42995285\n",
      " 0.42995285 0.42995285 0.42995285 0.20515894 0.42995285 0.20515894\n",
      " 0.07316594 0.42995285 0.31378717 0.42995285 0.05319747 0.31378717\n",
      " 0.42995285 0.42995285 0.20515894 0.42995285 0.42995285 0.11444053\n",
      " 0.42995285 0.26433669 0.73551597 0.42995285 0.07316594 0.42995285\n",
      " 0.42995285 0.17160657 0.20515894 0.42995285 0.42995285 0.13210606\n",
      " 0.42995285 0.63285131 0.42995285 0.63285131 0.20515894 0.42995285\n",
      " 0.20515894 0.07316594 0.20515894 0.20515894 0.42995285 0.20515894\n",
      " 0.42995285 0.42995285 0.42995285 0.07316594 0.20515894 0.17160657\n",
      " 0.07316594 0.20515894 0.73551597 0.42995285 0.20515894 0.42995285\n",
      " 0.42995285 0.73551597 0.20515894 0.20515894 0.42995285 0.42995285\n",
      " 0.20515894 0.31378717 0.42995285 0.42995285 0.42995285 0.20515894\n",
      " 0.20515894 0.42995285 0.42995285 0.42995285 0.73551597 0.20515894\n",
      " 0.20515894 0.42995285 0.42995285 0.42995285 0.17160657 0.20515894\n",
      " 0.20515894 0.20515894 0.42995285 0.17160657 0.55849257 0.26433669\n",
      " 0.42995285 0.20515894 0.85724969 0.42995285 0.42995285 0.73551597\n",
      " 0.42995285 0.42995285 0.20515894 0.42995285 0.73551597 0.42995285\n",
      " 0.13210606 0.42995285 0.20515894 0.42995285 0.42995285 0.20515894\n",
      " 0.42995285 0.20515894 0.42995285 0.42995285 0.42995285 0.42995285\n",
      " 0.42995285 0.42995285 0.42995285 0.42995285 0.42995285 0.42995285\n",
      " 0.73551597 0.20515894 0.20515894 0.31378717 0.26433669 0.20515894\n",
      " 0.20515894 0.20515894 0.11444053 0.20515894 0.42995285 0.20515894\n",
      " 0.42995285 0.20515894 0.42995285 0.42995285 0.42995285 0.20515894\n",
      " 0.42995285 0.42995285 0.42995285 0.42995285 0.42995285 0.42995285\n",
      " 0.42995285 0.20515894 0.20515894 0.42995285 0.26433669 0.42995285\n",
      " 0.20515894 0.20515894 0.42995285 0.20515894 0.42995285 0.20515894\n",
      " 0.42995285 0.20515894 0.20515894 0.20515894 0.42995285 0.20515894\n",
      " 0.42995285 0.73551597 0.20515894 0.42995285 0.20515894 0.20515894\n",
      " 0.42995285 0.42995285 0.42995285 0.20515894 0.42995285 0.20515894\n",
      " 0.42995285 0.20515894 0.07316594 0.20515894 0.42995285 0.20515894\n",
      " 0.20515894 0.20515894 0.42995285 0.42995285 0.42995285 0.42995285\n",
      " 0.42995285 0.07316594 0.20515894 0.42995285 0.42995285 0.85724969\n",
      " 0.42995285 0.42995285 0.73551597 0.42995285 0.42995285 0.42995285\n",
      " 0.42995285 0.20515894 0.42995285 0.42995285 0.42995285 0.07316594\n",
      " 0.42995285 0.85724969 0.42995285 0.26433669 0.42995285 0.20515894\n",
      " 0.07316594 0.20515894 0.42995285 0.42995285 0.20515894 0.42995285\n",
      " 0.07316594 0.42995285 0.42995285 0.20515894 0.07316594 0.42995285\n",
      " 0.73551597 0.42995285 0.31378717 0.42995285 0.31378717 0.20515894\n",
      " 0.42995285 0.42995285 0.07316594 0.20515894 0.42995285 0.20515894\n",
      " 0.42995285 0.42995285 0.42995285 0.20515894 0.20515894 0.42995285\n",
      " 0.85724969 0.42995285 0.42995285 0.20515894 0.20515894 0.20515894\n",
      " 0.42995285 0.42995285 0.20515894 0.17160657 0.26433669 0.42995285\n",
      " 0.26433669 0.42995285 0.20515894 0.42995285 0.42995285 0.20515894\n",
      " 0.42995285 0.11444053 0.05319747 0.42995285 0.42995285 0.20515894\n",
      " 0.42995285 0.42995285 0.42995285 0.42995285 0.42995285 0.73551597\n",
      " 0.42995285 0.42995285 0.73551597 0.42995285 0.42995285 0.42995285\n",
      " 0.20515894 0.20515894 0.07316594 0.42995285 0.42995285 0.26433669\n",
      " 0.42995285 0.42995285 0.20515894 0.20515894 0.20515894 0.20515894\n",
      " 0.42995285 0.42995285 0.42995285 0.20515894 0.07316594 0.42995285\n",
      " 0.42995285 0.42995285 0.42995285 0.42995285 0.73551597 0.42995285\n",
      " 0.20515894 0.07758619 0.42995285 0.02820015 0.20515894 0.42995285\n",
      " 0.42995285 0.42995285 0.42995285 0.20515894 0.42995285 0.42995285\n",
      " 0.42995285 0.20515894 0.42995285 0.42995285 0.26433669 0.42995285\n",
      " 0.20515894 0.20515894 0.42995285 0.20515894 0.42995285 0.42995285\n",
      " 0.07316594 0.26433669 0.20515894 0.42995285 0.03677815 0.20515894\n",
      " 0.20515894 0.42995285 0.42995285 0.07316594 0.42995285 0.42995285\n",
      " 0.42995285 0.42995285 0.42995285 0.20515894 0.20515894 0.42995285\n",
      " 0.20515894 0.42995285 0.20515894 0.42995285 0.20515894 0.20515894\n",
      " 0.20515894 0.73551597 0.42995285 0.20515894 0.20515894 0.42995285\n",
      " 0.42995285 0.42995285 0.42995285 0.20515894 0.42995285 0.05319747\n",
      " 0.42995285 0.20515894 0.42995285 0.42995285 0.20515894 0.42995285\n",
      " 0.42995285 0.58203572 0.42995285 0.42995285 0.42995285 0.20515894\n",
      " 0.20515894 0.20515894 0.42995285 0.42995285 0.73551597 0.42995285\n",
      " 0.20515894 0.42995285 0.20515894 0.42995285 0.42995285 0.20515894\n",
      " 0.26433669 0.20515894 0.20515894 0.42995285 0.42995285 0.26433669\n",
      " 0.20515894 0.31378717 0.07316594 0.31378717 0.42995285 0.20515894\n",
      " 0.20515894 0.73551597 0.42995285 0.42995285 0.42995285 0.42995285\n",
      " 0.20515894 0.42995285 0.20515894 0.42995285 0.20515894 0.42995285\n",
      " 0.20515894 0.20515894 0.42995285 0.20515894 0.20515894 0.26433669\n",
      " 0.42995285 0.17160657 0.42995285 0.42995285 0.42995285 0.42995285\n",
      " 0.42995285 0.17160657 0.42995285 0.42995285 0.42995285 0.42995285\n",
      " 0.20515894 0.20515894 0.42995285 0.20515894 0.73551597 0.42995285\n",
      " 0.20515894 0.20515894 0.31378717 0.42995285 0.26433669 0.07316594\n",
      " 0.42995285 0.42995285 0.42995285 0.20515894 0.42995285 0.58203572\n",
      " 0.42995285 0.42995285 0.42995285 0.20515894 0.42995285 0.73551597\n",
      " 0.20515894 0.42995285 0.42995285 0.42995285 0.42995285 0.26433669\n",
      " 0.42995285 0.20515894 0.20515894 0.42995285 0.42995285 0.42995285\n",
      " 0.42995285]\n"
     ]
    }
   ],
   "source": [
    "testcorr('LastName', 'c', True)"
   ]
  },
  {
   "cell_type": "markdown",
   "metadata": {},
   "source": [
    "### 去掉Name"
   ]
  },
  {
   "cell_type": "code",
   "execution_count": 62,
   "metadata": {
    "ExecuteTime": {
     "end_time": "2019-09-15T14:55:59.885000Z",
     "start_time": "2019-09-15T14:55:59.877000Z"
    }
   },
   "outputs": [],
   "source": [
    "data = data.drop(['Name'], axis=1)"
   ]
  },
  {
   "cell_type": "code",
   "execution_count": null,
   "metadata": {
    "ExecuteTime": {
     "start_time": "2019-09-15T14:57:05.963Z"
    }
   },
   "outputs": [],
   "source": [
    "data.head()"
   ]
  },
  {
   "cell_type": "markdown",
   "metadata": {},
   "source": [
    "## 数值化"
   ]
  },
  {
   "cell_type": "code",
   "execution_count": 70,
   "metadata": {
    "ExecuteTime": {
     "end_time": "2019-09-15T14:34:21.611000Z",
     "start_time": "2019-09-15T14:34:21.607000Z"
    }
   },
   "outputs": [
    {
     "name": "stdout",
     "output_type": "stream",
     "text": [
      "Pclass: integer\n",
      "Sex: string\n",
      "Age: floating\n",
      "SibSp: integer\n",
      "Parch: integer\n",
      "Fare: floating\n",
      "Embarked: mixed\n",
      "Title: string\n"
     ]
    },
    {
     "name": "stderr",
     "output_type": "stream",
     "text": [
      "D:\\Miniconda3\\envs\\gluon\\lib\\site-packages\\IPython\\core\\interactiveshell.py:3325: FutureWarning: A future version of pandas will default to `skipna=True`. To silence this warning, pass `skipna=True|False` explicitly.\n",
      "  exec(code_obj, self.user_global_ns, self.user_ns)\n"
     ]
    }
   ],
   "source": [
    "for c1 in data.columns.values:\n",
    "    print(\"%s: %s\" %(c1, pd.api.types.infer_dtype(data[c1]) ) ) #得到列类型"
   ]
  }
 ],
 "metadata": {
  "kernelspec": {
   "display_name": "Python 3",
   "language": "python",
   "name": "python3"
  },
  "language_info": {
   "codemirror_mode": {
    "name": "ipython",
    "version": 3
   },
   "file_extension": ".py",
   "mimetype": "text/x-python",
   "name": "python",
   "nbconvert_exporter": "python",
   "pygments_lexer": "ipython3",
   "version": "3.7.3"
  },
  "toc": {
   "base_numbering": 1,
   "nav_menu": {},
   "number_sections": true,
   "sideBar": true,
   "skip_h1_title": false,
   "title_cell": "Table of Contents",
   "title_sidebar": "Contents",
   "toc_cell": false,
   "toc_position": {
    "height": "calc(100% - 180px)",
    "left": "10px",
    "top": "150px",
    "width": "290px"
   },
   "toc_section_display": true,
   "toc_window_display": true
  },
  "varInspector": {
   "cols": {
    "lenName": 16,
    "lenType": 16,
    "lenVar": 40
   },
   "kernels_config": {
    "python": {
     "delete_cmd_postfix": "",
     "delete_cmd_prefix": "del ",
     "library": "var_list.py",
     "varRefreshCmd": "print(var_dic_list())"
    },
    "r": {
     "delete_cmd_postfix": ") ",
     "delete_cmd_prefix": "rm(",
     "library": "var_list.r",
     "varRefreshCmd": "cat(var_dic_list()) "
    }
   },
   "types_to_exclude": [
    "module",
    "function",
    "builtin_function_or_method",
    "instance",
    "_Feature"
   ],
   "window_display": false
  }
 },
 "nbformat": 4,
 "nbformat_minor": 2
}
